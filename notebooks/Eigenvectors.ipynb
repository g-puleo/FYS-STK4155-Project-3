{
 "cells": [
  {
   "cell_type": "code",
   "execution_count": 1,
   "id": "992b5f06",
   "metadata": {},
   "outputs": [],
   "source": [
    "import os, sys\n",
    "sys.path.append(os.path.join(os.getcwd(), \"../\"))\n",
    "import eigenSolverNN as esnn\n",
    "import numpy as np\n",
    "import tensorflow as tf\n",
    "import warnings\n",
    "import Eigenvects as ev"
   ]
  },
  {
   "cell_type": "markdown",
   "id": "4161bbf7",
   "metadata": {},
   "source": [
    "Try the algorythm with orthagonal initial condiotion"
   ]
  },
  {
   "cell_type": "code",
   "execution_count": 2,
   "id": "5f418cb6",
   "metadata": {},
   "outputs": [],
   "source": [
    "A = np.load('A.npy')\n",
    "A = tf.convert_to_tensor(A)"
   ]
  },
  {
   "cell_type": "code",
   "execution_count": null,
   "id": "b4c8f073",
   "metadata": {},
   "outputs": [],
   "source": [
    "eigenvectors, eigenvalues = ev.findEigenvectors(A)\n",
    "print(eigenvalues)\n",
    "#prints the true eigenvalues\n",
    "A = A.numpy()\n",
    "[E, V] = np.linalg.eigh(A)\n",
    "print(E)"
   ]
  },
  {
   "cell_type": "raw",
   "id": "4792851e",
   "metadata": {},
   "source": [
    "Ouput from run from terminal with above conditions\n",
    "\n",
    "### FINDING EIGENVECTOR NR.0 ###\n",
    "\n",
    "------ Current settings of model: ------\n",
    "\n",
    "Model:\n",
    "<keras.engine.sequential.Sequential object at 0x000001B8776CB250>\n",
    "Layers:\n",
    "[<keras.layers.core.dense.Dense object at 0x000001B8776CB610>, <keras.layers.core.dense.Dense object at 0x000001B8776CB4C0>]\n",
    "Number of neurons in hidden layer: 100\n",
    "Optimizer: Adam\n",
    "Learning rate: <tf.Variable 'learning_rate:0' shape=() dtype=float32, numpy=0.001>\n",
    "Time grid has shape (100, 1) and goes from [0.] to [1.]\n",
    "Starting from initial condition: [ 0.72939392  1.57302321 -0.80759332  1.7290057  -0.14581874  0.25922037]\n",
    "\n",
    "\n",
    " Training model with SGD using 4 batches and 50000 epochs.\n",
    "100%|███████████████████████████████████████| 50000/50000 [07:35<00:00, 109.75it/s]\n",
    "losses were: initial 0.3046872556900943, last: 0.3046872556900943\n",
    "[[0.99534305]\n",
    " [1.00385951]\n",
    " [0.98083247]\n",
    " [0.99620993]\n",
    " [1.00244767]\n",
    " [0.99056435]]\n",
    "### FINDING EIGENVECTOR NR.1 ###\n",
    "\n",
    "------ Current settings of model: ------\n",
    "\n",
    "Model:\n",
    "<keras.engine.sequential.Sequential object at 0x000001B87779A830>\n",
    "Layers:\n",
    "[<keras.layers.core.dense.Dense object at 0x000001B84CBEFB20>, <keras.layers.core.dense.Dense object at 0x000001B87EB0E0B0>]\n",
    "Number of neurons in hidden layer: 100\n",
    "Optimizer: Adam\n",
    "Learning rate: <tf.Variable 'learning_rate:0' shape=() dtype=float32, numpy=0.001>\n",
    "Time grid has shape (100, 1) and goes from [0.] to [1.]\n",
    "Starting from initial condition: [-0.12546543 -0.44377255 -0.18074347 -0.74798336  0.42581827 -0.11771084]\n",
    "\n",
    "\n",
    " Training model with SGD using 4 batches and 50000 epochs.\n",
    "100%|███████████████████████████████████████| 50000/50000 [07:49<00:00, 106.45it/s]\n",
    "losses were: initial 0.004923304873891549, last: 0.004923304873891549\n",
    "[[0.97377541]\n",
    " [1.03448067]\n",
    " [0.98580999]\n",
    " [0.98605119]\n",
    " [1.00573013]\n",
    " [0.97635663]]\n",
    "### FINDING EIGENVECTOR NR.2 ###\n",
    "\n",
    "------ Current settings of model: ------\n",
    "\n",
    "Model:\n",
    "<keras.engine.sequential.Sequential object at 0x000001B87DA6FD30>\n",
    "Layers:\n",
    "[<keras.layers.core.dense.Dense object at 0x000001B87797C6D0>, <keras.layers.core.dense.Dense object at 0x000001B87DA6FA30>]\n",
    "Number of neurons in hidden layer: 100\n",
    "Optimizer: Adam\n",
    "Learning rate: <tf.Variable 'learning_rate:0' shape=() dtype=float32, numpy=0.001>\n",
    "Time grid has shape (100, 1) and goes from [0.] to [1.]\n",
    "Starting from initial condition: [-0.18339302  0.12515308  0.72011814 -0.2260293  -0.04369643  0.61573935]\n",
    "\n",
    "\n",
    " Training model with SGD using 4 batches and 50000 epochs.\n",
    "100%|███████████████████████████████████████| 50000/50000 [07:42<00:00, 108.18it/s]\n",
    "losses were: initial 0.0004074855508858718, last: 0.0004074855508858718\n",
    "[[ 0.96456415]\n",
    " [ 0.99425542]\n",
    " [ 1.06509429]\n",
    " [ 0.9766737 ]\n",
    " [-0.99065164]\n",
    " [ 1.03344342]]\n",
    "C:\\Users\\breit\\Desktop\\atom\\FYS-STK\\Project\\FYS-STK4155-Project-3\\Eigenvects.py:49: UserWarning: eigenvector ([[ 0.95358613  0.87568952 -0.4931368   0.58755669  0.01777183 -0.93886836]]) might not be an eigenvector of A.\n",
    "  warnings.warn(f\"eigenvector ({eigvec}) might not be an eigenvector of A.\")\n",
    "### FINDING EIGENVECTOR NR.3 ###\n",
    "\n",
    "------ Current settings of model: ------\n",
    "\n",
    "Model:\n",
    "<keras.engine.sequential.Sequential object at 0x000001B84C7DBC70>\n",
    "Layers:\n",
    "[<keras.layers.core.dense.Dense object at 0x000001B87EB79000>, <keras.layers.core.dense.Dense object at 0x000001B8779D4280>]\n",
    "Number of neurons in hidden layer: 100\n",
    "Optimizer: Adam\n",
    "Learning rate: <tf.Variable 'learning_rate:0' shape=() dtype=float32, numpy=0.001>\n",
    "Time grid has shape (100, 1) and goes from [0.] to [1.]\n",
    "Starting from initial condition: [ 0.43643628  0.41460739  0.62730154 -0.04720304 -0.15089778  0.46810105]\n",
    "\n",
    "\n",
    " Training model with SGD using 4 batches and 50000 epochs.\n",
    "100%|███████████████████████████████████████| 50000/50000 [07:30<00:00, 111.06it/s]\n",
    "losses were: initial 0.0011403110875494978, last: 0.0011403110875494978\n",
    "[[1.02955541]\n",
    " [0.99985941]\n",
    " [0.99605543]\n",
    " [1.00110753]\n",
    " [1.01050603]\n",
    " [0.99538405]]\n",
    "### FINDING EIGENVECTOR NR.4 ###\n",
    "\n",
    "------ Current settings of model: ------\n",
    "\n",
    "Model:\n",
    "<keras.engine.sequential.Sequential object at 0x000001B87DA7ECB0>\n",
    "Layers:\n",
    "[<keras.layers.core.dense.Dense object at 0x000001B87DA6FAC0>, <keras.layers.core.dense.Dense object at 0x000001B87EB63610>]\n",
    "Optimizer: Adam\n",
    "Learning rate: <tf.Variable 'learning_rate:0' shape=() dtype=float32, numpy=0.001>\n",
    "Time grid has shape (100, 1) and goes from [0.] to [1.]\n",
    "Starting from initial condition: [ 0.00157149 -0.37017183 -0.54736344  0.53555152 -0.4509976   0.27046136]\n",
    "\n",
    "\n",
    " Training model with SGD using 4 batches and 50000 epochs.\n",
    "100%|████████████████████████████████████████████| 50000/50000 [07:29<00:00, 111.14it/s]\n",
    "losses were: initial 3.8944502516172186e-05, last: 3.8944502516172186e-05\n",
    "[[1.09454123]\n",
    " [0.98300369]\n",
    " [0.81518183]\n",
    " [1.11045841]\n",
    " [1.23885785]\n",
    " [1.07357763]]\n",
    "C:\\Users\\breit\\Desktop\\atom\\FYS-STK\\Project\\FYS-STK4155-Project-3\\Eigenvects.py:49: UserWarning: eigenvector ([[ 0.07328972 -0.25626918 -0.13509576 -0.11801587  0.04273363 -0.1651526 ]]) might not be an eigenvector of A.\n",
    "  warnings.warn(f\"eigenvector ({eigvec}) might not be an eigenvector of A.\")\n",
    "### FINDING EIGENVECTOR NR.5 ###\n",
    "\n",
    "------ Current settings of model: ------\n",
    "\n",
    "Model:\n",
    "<keras.engine.sequential.Sequential object at 0x000001B8776CB8E0>\n",
    "Layers:\n",
    "[<keras.layers.core.dense.Dense object at 0x000001B87EB37910>, <keras.layers.core.dense.Dense object at 0x000001B801FB6110>]\n",
    "Number of neurons in hidden layer: 100\n",
    "Optimizer: Adam\n",
    "Learning rate: <tf.Variable 'learning_rate:0' shape=() dtype=float32, numpy=0.001>\n",
    "Time grid has shape (100, 1) and goes from [0.] to [1.]\n",
    "Starting from initial condition: [ 0.05598096  0.13168023 -0.81246566 -0.08023737  0.05516988  0.55672636]\n",
    "\n",
    "\n",
    " Training model with SGD using 4 batches and 50000 epochs.\n",
    "100%|████████████████████████████████████████████| 50000/50000 [07:53<00:00, 105.68it/s]\n",
    "losses were: initial 1.6521570149216898e-05, last: 1.6521570149216898e-05\n",
    "[[  -1.23646943]\n",
    " [  -2.76785825]\n",
    " [-120.25844071]\n",
    " [   3.2013458 ]\n",
    " [   3.16563354]\n",
    " [   0.16997713]]\n",
    "C:\\Users\\breit\\Desktop\\atom\\FYS-STK\\Project\\FYS-STK4155-Project-3\\Eigenvects.py:49: UserWarning: eigenvector ([[-0.01739225  0.01617114  0.00181197 -0.04691476  0.0506154  -0.1001995 ]]) might not be an eigenvector of A.\n",
    "  warnings.warn(f\"eigenvector ({eigvec}) might not be an eigenvector of A.\")\n",
    "[-2.30653848 -2.30627952  0.19041998  2.20193631  2.18507504  0.65440824]\n",
    "[-2.30656508 -1.54248674 -0.53955334  0.19045441  1.68567193  2.20200564]"
   ]
  },
  {
   "cell_type": "markdown",
   "id": "8d4b5ec1",
   "metadata": {},
   "source": [
    "Finds some points that aren't eigenvectors of A but still has low cost. Try to force search until it finds all eigenvalues instead."
   ]
  },
  {
   "cell_type": "code",
   "execution_count": 3,
   "id": "0e2681b3",
   "metadata": {},
   "outputs": [
    {
     "name": "stdout",
     "output_type": "stream",
     "text": [
      "### FINDING EIGENVECTOR NR.0 ###\n",
      "\n",
      "------ Current settings of model: ------\n",
      "\n",
      "Model:\n",
      "<keras.engine.sequential.Sequential object at 0x00000223578A8C40>\n",
      "Layers:\n",
      "[<keras.layers.core.dense.Dense object at 0x00000223578A9B10>, <keras.layers.core.dense.Dense object at 0x00000223578A9720>]\n",
      "Number of neurons in hidden layer: 100\n",
      "Optimizer: Adam\n",
      "Learning rate: <tf.Variable 'learning_rate:0' shape=() dtype=float32, numpy=0.001>\n",
      "Time grid has shape (100, 1) and goes from [0.] to [1.]\n",
      "Starting from initial condition: [-0.32318782 -0.0292165  -0.62624758 -0.2821335   1.2604693  -0.66849856]\n",
      "\n",
      "\n",
      " Training model with SGD using 4 batches and 50000 epochs.\n"
     ]
    },
    {
     "name": "stderr",
     "output_type": "stream",
     "text": [
      "100%|████████████████████████████████████████████████████████████████████████████| 50000/50000 [14:22<00:00, 57.96it/s]\n",
      "C:\\Users\\breit\\Desktop\\Atom\\FYS-STK\\Project\\FYS-STK4155-Project-3\\Eigenvects.py:49: UserWarning: eigenvector ([[-0.08224674  0.10581586 -0.07809353 -0.20182097 -0.32255485 -0.09678008]]) might not be an eigenvector of A.\n",
      "  warnings.warn(f\"eigenvector ({eigvec}) might not be an eigenvector of A.\")\n"
     ]
    },
    {
     "name": "stdout",
     "output_type": "stream",
     "text": [
      "losses were: initial 0.18761498428709633, last: 0.18761498428709633\n",
      "[[0.87228364]\n",
      " [0.9591128 ]\n",
      " [0.7388812 ]\n",
      " [0.99178884]\n",
      " [1.05062167]\n",
      " [0.7845387 ]]\n",
      "Found something not an eigenvector of A: \n",
      " [[-0.08224674  0.10581586 -0.07809353 -0.20182097 -0.32255485 -0.09678008]]\n",
      "### FINDING EIGENVECTOR NR.0 ###\n",
      "\n",
      "------ Current settings of model: ------\n",
      "\n",
      "Model:\n",
      "<keras.engine.sequential.Sequential object at 0x000002237F06E7D0>\n",
      "Layers:\n",
      "[<keras.layers.core.dense.Dense object at 0x000002235790D840>, <keras.layers.core.dense.Dense object at 0x000002237F06EAD0>]\n",
      "Number of neurons in hidden layer: 100\n",
      "Optimizer: Adam\n",
      "Learning rate: <tf.Variable 'learning_rate:0' shape=() dtype=float32, numpy=0.001>\n",
      "Time grid has shape (100, 1) and goes from [0.] to [1.]\n",
      "Starting from initial condition: [ 0.56780179  0.45154301  0.10427437 -0.36695212 -0.52540878 -1.28980776]\n",
      "\n",
      "\n",
      " Training model with SGD using 4 batches and 50000 epochs.\n"
     ]
    },
    {
     "name": "stderr",
     "output_type": "stream",
     "text": [
      "100%|████████████████████████████████████████████████████████████████████████████| 50000/50000 [12:29<00:00, 66.69it/s]\n"
     ]
    },
    {
     "name": "stdout",
     "output_type": "stream",
     "text": [
      "losses were: initial 0.0012873719127241352, last: 0.0012873719127241352\n",
      "[[1.06662477]\n",
      " [0.99044417]\n",
      " [0.98341189]\n",
      " [1.00126849]\n",
      " [1.00250225]\n",
      " [0.94342079]]\n",
      "Found new eigenvector: \n",
      " [[-0.1046819   0.1727829  -0.07834208 -0.35314607 -0.55151372 -0.14936678]] \n",
      " eigenvalue [[-2.30595902]]\n",
      "### FINDING EIGENVECTOR NR.1 ###\n",
      "\n",
      "------ Current settings of model: ------\n",
      "\n",
      "Model:\n",
      "<keras.engine.sequential.Sequential object at 0x000002237F44FC70>\n",
      "Layers:\n",
      "[<keras.layers.core.dense.Dense object at 0x00000223577E7940>, <keras.layers.core.dense.Dense object at 0x0000022357889C60>]\n",
      "Number of neurons in hidden layer: 100\n",
      "Optimizer: Adam\n",
      "Learning rate: <tf.Variable 'learning_rate:0' shape=() dtype=float32, numpy=0.001>\n",
      "Time grid has shape (100, 1) and goes from [0.] to [1.]\n",
      "Starting from initial condition: [-0.79812381  0.46346732 -0.64288786  0.50251024  0.25973266 -0.71443011]\n",
      "\n",
      "\n",
      " Training model with SGD using 4 batches and 50000 epochs.\n"
     ]
    },
    {
     "name": "stderr",
     "output_type": "stream",
     "text": [
      "100%|████████████████████████████████████████████████████████████████████████████| 50000/50000 [09:09<00:00, 91.04it/s]\n"
     ]
    },
    {
     "name": "stdout",
     "output_type": "stream",
     "text": [
      "losses were: initial 4.717797654168871e-05, last: 4.717797654168871e-05\n",
      "[[1.0229733 ]\n",
      " [1.01940085]\n",
      " [0.9825221 ]\n",
      " [0.99720345]\n",
      " [0.98135605]\n",
      " [0.98136714]]\n",
      "Found new eigenvector: \n",
      " [[ 0.11137297 -0.38341325 -0.22473185 -0.26349817  0.13719395 -0.30286995]] \n",
      " eigenvalue [[2.20038953]]\n",
      "### FINDING EIGENVECTOR NR.2 ###\n",
      "\n",
      "------ Current settings of model: ------\n",
      "\n",
      "Model:\n",
      "<keras.engine.sequential.Sequential object at 0x000002237F0699C0>\n",
      "Layers:\n",
      "[<keras.layers.core.dense.Dense object at 0x000002235790D7E0>, <keras.layers.core.dense.Dense object at 0x000002237F06DC90>]\n",
      "Number of neurons in hidden layer: 100\n",
      "Optimizer: Adam\n",
      "Learning rate: <tf.Variable 'learning_rate:0' shape=() dtype=float32, numpy=0.001>\n",
      "Time grid has shape (100, 1) and goes from [0.] to [1.]\n",
      "Starting from initial condition: [-0.25528191  0.51421227  0.67796058 -1.0335905   0.77448958  0.00217207]\n",
      "\n",
      "\n",
      " Training model with SGD using 4 batches and 50000 epochs.\n"
     ]
    },
    {
     "name": "stderr",
     "output_type": "stream",
     "text": [
      "100%|████████████████████████████████████████████████████████████████████████████| 50000/50000 [08:46<00:00, 94.94it/s]\n"
     ]
    },
    {
     "name": "stdout",
     "output_type": "stream",
     "text": [
      "losses were: initial 4.0516143040957025e-05, last: 4.0516143040957025e-05\n",
      "[[0.99833751]\n",
      " [1.19090415]\n",
      " [0.83131847]\n",
      " [1.0533757 ]\n",
      " [0.98120565]\n",
      " [1.01822593]]\n",
      "Found new eigenvector: \n",
      " [[ 0.07310062 -0.09114937  0.09645567  0.19775667  0.33990694  0.06466422]] \n",
      " eigenvalue [[-2.29170592]]\n",
      "### FINDING EIGENVECTOR NR.3 ###\n",
      "\n",
      "------ Current settings of model: ------\n",
      "\n",
      "Model:\n",
      "<keras.engine.sequential.Sequential object at 0x000002237F043040>\n",
      "Layers:\n",
      "[<keras.layers.core.dense.Dense object at 0x00000223577E7FA0>, <keras.layers.core.dense.Dense object at 0x000002237F01BB50>]\n",
      "Number of neurons in hidden layer: 100\n",
      "Optimizer: Adam\n",
      "Learning rate: <tf.Variable 'learning_rate:0' shape=() dtype=float32, numpy=0.001>\n",
      "Time grid has shape (100, 1) and goes from [0.] to [1.]\n",
      "Starting from initial condition: [-0.15429848 -0.69307072  0.32514946  0.93232724 -0.68430431 -0.54172611]\n",
      "\n",
      "\n",
      " Training model with SGD using 4 batches and 50000 epochs.\n"
     ]
    },
    {
     "name": "stderr",
     "output_type": "stream",
     "text": [
      "100%|████████████████████████████████████████████████████████████████████████████| 50000/50000 [10:03<00:00, 82.89it/s]\n",
      "C:\\Users\\breit\\Desktop\\Atom\\FYS-STK\\Project\\FYS-STK4155-Project-3\\Eigenvects.py:49: UserWarning: eigenvector ([[-0.61268593 -0.04349576 -0.12522608  0.34441161  0.00735753 -0.38367943]]) might not be an eigenvector of A.\n",
      "  warnings.warn(f\"eigenvector ({eigvec}) might not be an eigenvector of A.\")\n"
     ]
    },
    {
     "name": "stdout",
     "output_type": "stream",
     "text": [
      "losses were: initial 0.00013024388283938227, last: 0.00013024388283938227\n",
      "[[1.01551217]\n",
      " [0.82881661]\n",
      " [0.94539567]\n",
      " [0.96477977]\n",
      " [3.18217304]\n",
      " [0.99603826]]\n",
      "Found something not an eigenvector of A: \n",
      " [[-0.61268593 -0.04349576 -0.12522608  0.34441161  0.00735753 -0.38367943]]\n",
      "### FINDING EIGENVECTOR NR.3 ###\n",
      "\n",
      "------ Current settings of model: ------\n",
      "\n",
      "Model:\n",
      "<keras.engine.sequential.Sequential object at 0x000002237F61BA00>\n",
      "Layers:\n",
      "[<keras.layers.core.dense.Dense object at 0x000002237F678880>, <keras.layers.core.dense.Dense object at 0x000002237F48BCD0>]\n",
      "Number of neurons in hidden layer: 100\n",
      "Optimizer: Adam\n",
      "Learning rate: <tf.Variable 'learning_rate:0' shape=() dtype=float32, numpy=0.001>\n",
      "Time grid has shape (100, 1) and goes from [0.] to [1.]\n",
      "Starting from initial condition: [-0.39523299 -0.46583809  0.29011504  0.10862094 -0.19430624  0.04659779]\n",
      "\n",
      "\n",
      " Training model with SGD using 4 batches and 50000 epochs.\n"
     ]
    },
    {
     "name": "stderr",
     "output_type": "stream",
     "text": [
      "100%|████████████████████████████████████████████████████████████████████████████| 50000/50000 [09:14<00:00, 90.20it/s]\n",
      "C:\\Users\\breit\\Desktop\\Atom\\FYS-STK\\Project\\FYS-STK4155-Project-3\\Eigenvects.py:49: UserWarning: eigenvector ([[-0.06958018  0.09399607 -0.0384501  -0.19540352 -0.3158601  -0.07509738]]) might not be an eigenvector of A.\n",
      "  warnings.warn(f\"eigenvector ({eigvec}) might not be an eigenvector of A.\")\n"
     ]
    },
    {
     "name": "stdout",
     "output_type": "stream",
     "text": [
      "losses were: initial 0.00027841515114845856, last: 0.00027841515114845856\n",
      "[[0.9021798 ]\n",
      " [0.99695306]\n",
      " [1.24706551]\n",
      " [1.04431317]\n",
      " [0.97744154]\n",
      " [1.12303282]]\n",
      "Found something not an eigenvector of A: \n",
      " [[-0.06958018  0.09399607 -0.0384501  -0.19540352 -0.3158601  -0.07509738]]\n",
      "### FINDING EIGENVECTOR NR.3 ###\n",
      "\n",
      "------ Current settings of model: ------\n",
      "\n",
      "Model:\n",
      "<keras.engine.sequential.Sequential object at 0x000002237F59A140>\n",
      "Layers:\n",
      "[<keras.layers.core.dense.Dense object at 0x000002237F6198A0>, <keras.layers.core.dense.Dense object at 0x000002237F49F760>]\n",
      "Number of neurons in hidden layer: 100\n",
      "Optimizer: Adam\n",
      "Learning rate: <tf.Variable 'learning_rate:0' shape=() dtype=float32, numpy=0.001>\n",
      "Time grid has shape (100, 1) and goes from [0.] to [1.]\n",
      "Starting from initial condition: [-0.43222073 -0.35016601  0.1960399   0.2868414  -0.18634827 -0.19508001]\n",
      "\n",
      "\n",
      " Training model with SGD using 4 batches and 50000 epochs.\n"
     ]
    },
    {
     "name": "stderr",
     "output_type": "stream",
     "text": [
      "100%|███████████████████████████████████████████████████████████████████████████| 50000/50000 [08:00<00:00, 104.08it/s]\n"
     ]
    },
    {
     "name": "stdout",
     "output_type": "stream",
     "text": [
      "losses were: initial 4.347968061100909e-05, last: 4.347968061100909e-05\n",
      "[[0.99075195]\n",
      " [1.08217571]\n",
      " [1.13682752]\n",
      " [1.01863587]\n",
      " [0.98704496]\n",
      " [0.96357292]]\n",
      "Duplicate [[-2.30469286]]\n",
      "### FINDING EIGENVECTOR NR.3 ###\n",
      "\n",
      "------ Current settings of model: ------\n",
      "\n",
      "Model:\n",
      "<keras.engine.sequential.Sequential object at 0x000002237F67A650>\n",
      "Layers:\n",
      "[<keras.layers.core.dense.Dense object at 0x000002230CF53CA0>, <keras.layers.core.dense.Dense object at 0x000002237F6580D0>]\n",
      "Number of neurons in hidden layer: 100\n",
      "Optimizer: Adam\n",
      "Learning rate: <tf.Variable 'learning_rate:0' shape=() dtype=float32, numpy=0.001>\n",
      "Time grid has shape (100, 1) and goes from [0.] to [1.]\n",
      "Starting from initial condition: [-2.78688551 -0.24315112  0.18719615  0.29249109  0.48067004 -0.89263113]\n",
      "\n",
      "\n",
      " Training model with SGD using 4 batches and 50000 epochs.\n"
     ]
    },
    {
     "name": "stderr",
     "output_type": "stream",
     "text": [
      "100%|███████████████████████████████████████████████████████████████████████████| 50000/50000 [08:08<00:00, 102.45it/s]\n"
     ]
    },
    {
     "name": "stdout",
     "output_type": "stream",
     "text": [
      "losses were: initial 0.001171332676323363, last: 0.001171332676323363\n",
      "[[0.99634363]\n",
      " [0.99814379]\n",
      " [1.00467876]\n",
      " [1.00200629]\n",
      " [0.99918662]\n",
      " [1.00340022]]\n",
      "Duplicate [[-2.30656141]]\n",
      "### FINDING EIGENVECTOR NR.3 ###\n",
      "\n",
      "------ Current settings of model: ------\n",
      "\n",
      "Model:\n",
      "<keras.engine.sequential.Sequential object at 0x000002230CF71090>\n",
      "Layers:\n",
      "[<keras.layers.core.dense.Dense object at 0x000002237F59A980>, <keras.layers.core.dense.Dense object at 0x000002230CF53790>]\n",
      "Number of neurons in hidden layer: 100\n",
      "Optimizer: Adam\n",
      "Learning rate: <tf.Variable 'learning_rate:0' shape=() dtype=float32, numpy=0.001>\n",
      "Time grid has shape (100, 1) and goes from [0.] to [1.]\n",
      "Starting from initial condition: [-2.70466964 -3.1845197   2.42829333 -2.84635488 -0.01051487  3.70658037]\n",
      "\n",
      "\n",
      " Training model with SGD using 4 batches and 50000 epochs.\n"
     ]
    },
    {
     "name": "stderr",
     "output_type": "stream",
     "text": [
      "100%|███████████████████████████████████████████████████████████████████████████| 50000/50000 [07:34<00:00, 110.11it/s]\n",
      "C:\\Users\\breit\\Desktop\\Atom\\FYS-STK\\Project\\FYS-STK4155-Project-3\\Eigenvects.py:49: UserWarning: eigenvector ([[-1.96579315 -0.14452561 -0.40752607  1.07503136  0.02698371 -1.20655255]]) might not be an eigenvector of A.\n",
      "  warnings.warn(f\"eigenvector ({eigvec}) might not be an eigenvector of A.\")\n"
     ]
    },
    {
     "name": "stdout",
     "output_type": "stream",
     "text": [
      "losses were: initial 0.25623611199831114, last: 0.25623611199831114\n",
      "[[1.00306264]\n",
      " [0.78165535]\n",
      " [0.96990301]\n",
      " [1.00970658]\n",
      " [0.5554838 ]\n",
      " [0.99095317]]\n",
      "Found something not an eigenvector of A: \n",
      " [[-1.96579315 -0.14452561 -0.40752607  1.07503136  0.02698371 -1.20655255]]\n",
      "### FINDING EIGENVECTOR NR.3 ###\n",
      "\n",
      "------ Current settings of model: ------\n",
      "\n",
      "Model:\n",
      "<keras.engine.sequential.Sequential object at 0x000002237F659B40>\n",
      "Layers:\n",
      "[<keras.layers.core.dense.Dense object at 0x000002237F069150>, <keras.layers.core.dense.Dense object at 0x000002230CF969B0>]\n",
      "Number of neurons in hidden layer: 100\n",
      "Optimizer: Adam\n",
      "Learning rate: <tf.Variable 'learning_rate:0' shape=() dtype=float32, numpy=0.001>\n",
      "Time grid has shape (100, 1) and goes from [0.] to [1.]\n",
      "Starting from initial condition: [-0.13020854 -2.80926407  1.66766549  0.85776635 -1.82998516  0.69583341]\n",
      "\n",
      "\n",
      " Training model with SGD using 4 batches and 50000 epochs.\n"
     ]
    },
    {
     "name": "stderr",
     "output_type": "stream",
     "text": [
      "100%|███████████████████████████████████████████████████████████████████████████| 50000/50000 [07:42<00:00, 108.16it/s]\n"
     ]
    },
    {
     "name": "stdout",
     "output_type": "stream",
     "text": [
      "losses were: initial 0.0039328718748501525, last: 0.0039328718748501525\n",
      "[[0.98870147]\n",
      " [0.99955411]\n",
      " [1.00353274]\n",
      " [1.00501414]\n",
      " [0.98355321]\n",
      " [0.99996962]]\n",
      "Duplicate [[2.20198]]\n",
      "### FINDING EIGENVECTOR NR.3 ###\n",
      "\n",
      "------ Current settings of model: ------\n",
      "\n",
      "Model:\n",
      "<keras.engine.sequential.Sequential object at 0x000002230CF32D70>\n",
      "Layers:\n",
      "[<keras.layers.core.dense.Dense object at 0x000002230CF94880>, <keras.layers.core.dense.Dense object at 0x000002230CFDD990>]\n",
      "Number of neurons in hidden layer: 100\n",
      "Optimizer: Adam\n",
      "Learning rate: <tf.Variable 'learning_rate:0' shape=() dtype=float32, numpy=0.001>\n",
      "Time grid has shape (100, 1) and goes from [0.] to [1.]\n",
      "Starting from initial condition: [-4.22001277 -2.57352186  2.25764574 -4.26837655  1.24084463  4.30649487]\n",
      "\n",
      "\n",
      " Training model with SGD using 4 batches and 50000 epochs.\n"
     ]
    },
    {
     "name": "stderr",
     "output_type": "stream",
     "text": [
      "100%|███████████████████████████████████████████████████████████████████████████| 50000/50000 [07:50<00:00, 106.18it/s]\n"
     ]
    },
    {
     "name": "stdout",
     "output_type": "stream",
     "text": [
      "losses were: initial 0.4479705847391358, last: 0.4479705847391358\n",
      "[[1.01477117]\n",
      " [1.0001428 ]\n",
      " [0.99616187]\n",
      " [1.00106398]\n",
      " [1.00623081]\n",
      " [0.99771534]]\n",
      "Duplicate [[2.20198562]]\n",
      "### FINDING EIGENVECTOR NR.3 ###\n",
      "\n",
      "------ Current settings of model: ------\n",
      "\n",
      "Model:\n",
      "<keras.engine.sequential.Sequential object at 0x000002230D01FB50>\n",
      "Layers:\n",
      "[<keras.layers.core.dense.Dense object at 0x000002237F406B00>, <keras.layers.core.dense.Dense object at 0x000002230D0A35B0>]\n",
      "Number of neurons in hidden layer: 100\n",
      "Optimizer: Adam\n",
      "Learning rate: <tf.Variable 'learning_rate:0' shape=() dtype=float32, numpy=0.001>\n",
      "Time grid has shape (100, 1) and goes from [0.] to [1.]\n",
      "Starting from initial condition: [ 2.78498421 -2.11136003  0.97106286  2.33595246 -2.74296621 -0.29838204]\n",
      "\n",
      "\n",
      " Training model with SGD using 4 batches and 50000 epochs.\n"
     ]
    },
    {
     "name": "stderr",
     "output_type": "stream",
     "text": [
      "100%|███████████████████████████████████████████████████████████████████████████| 50000/50000 [08:02<00:00, 103.64it/s]\n",
      "C:\\Users\\breit\\Desktop\\Atom\\FYS-STK\\Project\\FYS-STK4155-Project-3\\Eigenvects.py:49: UserWarning: eigenvector ([[ 0.09084897 -0.12965374  0.02505338  0.303083    0.45080794  0.13172611]]) might not be an eigenvector of A.\n",
      "  warnings.warn(f\"eigenvector ({eigvec}) might not be an eigenvector of A.\")\n"
     ]
    },
    {
     "name": "stdout",
     "output_type": "stream",
     "text": [
      "losses were: initial 0.007453883800458333, last: 0.007453883800458333\n",
      "[[0.99870315]\n",
      " [1.12207792]\n",
      " [1.60354475]\n",
      " [0.97229266]\n",
      " [1.00305671]\n",
      " [0.97139795]]\n",
      "Found something not an eigenvector of A: \n",
      " [[ 0.09084897 -0.12965374  0.02505338  0.303083    0.45080794  0.13172611]]\n",
      "### FINDING EIGENVECTOR NR.3 ###\n",
      "\n",
      "------ Current settings of model: ------\n",
      "\n",
      "Model:\n",
      "<keras.engine.sequential.Sequential object at 0x000002237F407E80>\n",
      "Layers:\n",
      "[<keras.layers.core.dense.Dense object at 0x000002230D01FA90>, <keras.layers.core.dense.Dense object at 0x000002230D0BC190>]\n",
      "Number of neurons in hidden layer: 100\n",
      "Optimizer: Adam\n",
      "Learning rate: <tf.Variable 'learning_rate:0' shape=() dtype=float32, numpy=0.001>\n",
      "Time grid has shape (100, 1) and goes from [0.] to [1.]\n",
      "Starting from initial condition: [  1.24532802  -0.04471553   1.39615238 -11.28645703   3.794589\n",
      "  11.01672826]\n",
      "\n",
      "\n",
      " Training model with SGD using 4 batches and 50000 epochs.\n"
     ]
    },
    {
     "name": "stderr",
     "output_type": "stream",
     "text": [
      "100%|███████████████████████████████████████████████████████████████████████████| 50000/50000 [07:55<00:00, 105.18it/s]\n"
     ]
    },
    {
     "name": "stdout",
     "output_type": "stream",
     "text": [
      "losses were: initial 10.768866362300693, last: 10.768866362300693\n",
      "[[0.94947737]\n",
      " [0.99241462]\n",
      " [1.00688128]\n",
      " [0.95260363]\n",
      " [1.01195673]\n",
      " [1.06044996]]\n",
      "Duplicate [[2.19947311]]\n",
      "### FINDING EIGENVECTOR NR.3 ###\n",
      "\n",
      "------ Current settings of model: ------\n",
      "\n",
      "Model:\n",
      "<keras.engine.sequential.Sequential object at 0x000002230D14AFB0>\n",
      "Layers:\n",
      "[<keras.layers.core.dense.Dense object at 0x000002237F48AB00>, <keras.layers.core.dense.Dense object at 0x000002230CF12470>]\n",
      "Number of neurons in hidden layer: 100\n",
      "Optimizer: Adam\n",
      "Learning rate: <tf.Variable 'learning_rate:0' shape=() dtype=float32, numpy=0.001>\n",
      "Time grid has shape (100, 1) and goes from [0.] to [1.]\n",
      "Starting from initial condition: [ -5.00795265   3.58945361  -0.7236865  -11.39404722   7.45804497\n",
      "   7.44263348]\n",
      "\n",
      "\n",
      " Training model with SGD using 4 batches and 50000 epochs.\n"
     ]
    },
    {
     "name": "stderr",
     "output_type": "stream",
     "text": [
      "100%|███████████████████████████████████████████████████████████████████████████| 50000/50000 [08:02<00:00, 103.71it/s]\n",
      "C:\\Users\\breit\\Desktop\\Atom\\FYS-STK\\Project\\FYS-STK4155-Project-3\\Eigenvects.py:49: UserWarning: eigenvector ([[ 0.03892685  0.5338196   0.3956603   0.84529804 -0.47993157  0.20806699]]) might not be an eigenvector of A.\n",
      "  warnings.warn(f\"eigenvector ({eigvec}) might not be an eigenvector of A.\")\n"
     ]
    },
    {
     "name": "stdout",
     "output_type": "stream",
     "text": [
      "losses were: initial 0.05524631316208668, last: 0.05524631316208668\n",
      "[[-1.39306218]\n",
      " [ 0.99891428]\n",
      " [ 1.05642622]\n",
      " [ 0.85196755]\n",
      " [ 1.08329023]\n",
      " [ 2.88698449]]\n",
      "Found something not an eigenvector of A: \n",
      " [[ 0.03892685  0.5338196   0.3956603   0.84529804 -0.47993157  0.20806699]]\n",
      "### FINDING EIGENVECTOR NR.3 ###\n",
      "\n",
      "------ Current settings of model: ------\n",
      "\n",
      "Model:\n",
      "<keras.engine.sequential.Sequential object at 0x000002230D1250C0>\n",
      "Layers:\n",
      "[<keras.layers.core.dense.Dense object at 0x000002230D18FD00>, <keras.layers.core.dense.Dense object at 0x000002230D16D960>]\n",
      "Number of neurons in hidden layer: 100\n",
      "Optimizer: Adam\n",
      "Learning rate: <tf.Variable 'learning_rate:0' shape=() dtype=float32, numpy=0.001>\n",
      "Time grid has shape (100, 1) and goes from [0.] to [1.]\n",
      "Starting from initial condition: [ 3.25978351 -7.96027055  5.40697332 -3.8034581  -3.83784696  8.83442115]\n",
      "\n",
      "\n",
      " Training model with SGD using 4 batches and 50000 epochs.\n"
     ]
    },
    {
     "name": "stderr",
     "output_type": "stream",
     "text": [
      "100%|███████████████████████████████████████████████████████████████████████████| 50000/50000 [07:54<00:00, 105.35it/s]\n",
      "C:\\Users\\breit\\Desktop\\Atom\\FYS-STK\\Project\\FYS-STK4155-Project-3\\Eigenvects.py:49: UserWarning: eigenvector ([[ 0.79185943 -0.02489154 -0.31661159  0.01571809  0.53122533 -0.68805657]]) might not be an eigenvector of A.\n",
      "  warnings.warn(f\"eigenvector ({eigvec}) might not be an eigenvector of A.\")\n"
     ]
    },
    {
     "name": "stdout",
     "output_type": "stream",
     "text": [
      "losses were: initial 0.6766135339491364, last: 0.6766135339491364\n",
      "[[   0.17882512]\n",
      " [  40.41178136]\n",
      " [   4.95531366]\n",
      " [-113.82439842]\n",
      " [  -0.8654419 ]\n",
      " [   2.37043972]]\n",
      "Found something not an eigenvector of A: \n",
      " [[ 0.79185943 -0.02489154 -0.31661159  0.01571809  0.53122533 -0.68805657]]\n",
      "### FINDING EIGENVECTOR NR.3 ###\n",
      "\n",
      "------ Current settings of model: ------\n",
      "\n",
      "Model:\n",
      "<keras.engine.sequential.Sequential object at 0x000002230D16CB80>\n",
      "Layers:\n",
      "[<keras.layers.core.dense.Dense object at 0x000002230D0A2440>, <keras.layers.core.dense.Dense object at 0x000002230CFDD4E0>]\n",
      "Number of neurons in hidden layer: 100\n",
      "Optimizer: Adam\n",
      "Learning rate: <tf.Variable 'learning_rate:0' shape=() dtype=float32, numpy=0.001>\n",
      "Time grid has shape (100, 1) and goes from [0.] to [1.]\n",
      "Starting from initial condition: [-2.5735626   4.92534524 -3.18084855  1.13829685  2.96474899 -4.46866204]\n",
      "\n",
      "\n",
      " Training model with SGD using 4 batches and 50000 epochs.\n"
     ]
    },
    {
     "name": "stderr",
     "output_type": "stream",
     "text": [
      "100%|███████████████████████████████████████████████████████████████████████████| 50000/50000 [07:52<00:00, 105.77it/s]\n",
      "C:\\Users\\breit\\Desktop\\Atom\\FYS-STK\\Project\\FYS-STK4155-Project-3\\Eigenvects.py:49: UserWarning: eigenvector ([[-0.01558639  0.10456879 -0.02718701 -0.34186416 -0.49685742  0.02828477]]) might not be an eigenvector of A.\n",
      "  warnings.warn(f\"eigenvector ({eigvec}) might not be an eigenvector of A.\")\n"
     ]
    },
    {
     "name": "stdout",
     "output_type": "stream",
     "text": [
      "losses were: initial 0.028082362567702232, last: 0.028082362567702232\n",
      "[[ 4.5982789 ]\n",
      " [ 1.49302195]\n",
      " [ 3.91999086]\n",
      " [ 1.06246656]\n",
      " [ 0.95321994]\n",
      " [-4.21918221]]\n",
      "Found something not an eigenvector of A: \n",
      " [[-0.01558639  0.10456879 -0.02718701 -0.34186416 -0.49685742  0.02828477]]\n",
      "### FINDING EIGENVECTOR NR.3 ###\n",
      "\n",
      "------ Current settings of model: ------\n",
      "\n",
      "Model:\n",
      "<keras.engine.sequential.Sequential object at 0x000002230CFDEB30>\n",
      "Layers:\n",
      "[<keras.layers.core.dense.Dense object at 0x000002230D125660>, <keras.layers.core.dense.Dense object at 0x000002230CF53DF0>]\n",
      "Number of neurons in hidden layer: 100\n",
      "Optimizer: Adam\n",
      "Learning rate: <tf.Variable 'learning_rate:0' shape=() dtype=float32, numpy=0.001>\n",
      "Time grid has shape (100, 1) and goes from [0.] to [1.]\n",
      "Starting from initial condition: [ 3.50938065 -0.74626042 -0.29033242  5.42264871 -3.31073886 -3.76679209]\n",
      "\n",
      "\n",
      " Training model with SGD using 4 batches and 50000 epochs.\n"
     ]
    },
    {
     "name": "stderr",
     "output_type": "stream",
     "text": [
      "  3%|█▉                                                                           | 1281/50000 [00:13<08:21, 97.20it/s]\n"
     ]
    },
    {
     "ename": "IndexError",
     "evalue": "list index out of range",
     "output_type": "error",
     "traceback": [
      "\u001b[1;31m---------------------------------------------------------------------------\u001b[0m",
      "\u001b[1;31mKeyboardInterrupt\u001b[0m                         Traceback (most recent call last)",
      "File \u001b[1;32m~\\Desktop\\Atom\\FYS-STK\\Project\\FYS-STK4155-Project-3\\eigenSolverNN.py:206\u001b[0m, in \u001b[0;36meigSolverNN.train_model\u001b[1;34m(self, Nepochs, Nbatches, tolerance)\u001b[0m\n\u001b[0;32m    205\u001b[0m \t\u001b[38;5;66;03m#update self.model using gradient_step\u001b[39;00m\n\u001b[1;32m--> 206\u001b[0m \tcurr_loss \u001b[38;5;241m=\u001b[39m \u001b[38;5;28;43mself\u001b[39;49m\u001b[38;5;241;43m.\u001b[39;49m\u001b[43mgradient_step\u001b[49m(t_current)\n\u001b[0;32m    208\u001b[0m \u001b[38;5;28;01mif\u001b[39;00m curr_loss \u001b[38;5;241m<\u001b[39m tolerance:\n",
      "File \u001b[1;32m~\\AppData\\Local\\Programs\\Python\\Python310\\lib\\site-packages\\tensorflow\\python\\eager\\def_function.py:1243\u001b[0m, in \u001b[0;36mFunction.__get__\u001b[1;34m(self, instance, owner)\u001b[0m\n\u001b[0;32m   1241\u001b[0m   \u001b[38;5;28;01mreturn\u001b[39;00m concrete\n\u001b[1;32m-> 1243\u001b[0m \u001b[38;5;28;01mdef\u001b[39;00m \u001b[38;5;21m__get__\u001b[39m(\u001b[38;5;28mself\u001b[39m, instance, owner):\n\u001b[0;32m   1244\u001b[0m   \u001b[38;5;124;03m\"\"\"Makes it possible to defun instance methods.\"\"\"\u001b[39;00m\n",
      "\u001b[1;31mKeyboardInterrupt\u001b[0m: ",
      "\nDuring handling of the above exception, another exception occurred:\n",
      "\u001b[1;31mIndexError\u001b[0m                                Traceback (most recent call last)",
      "Input \u001b[1;32mIn [3]\u001b[0m, in \u001b[0;36m<cell line: 1>\u001b[1;34m()\u001b[0m\n\u001b[1;32m----> 1\u001b[0m eigenvectors, eigenvalues \u001b[38;5;241m=\u001b[39m \u001b[43mev\u001b[49m\u001b[38;5;241;43m.\u001b[39;49m\u001b[43mSearch_Until_Find\u001b[49m\u001b[43m(\u001b[49m\u001b[43mA\u001b[49m\u001b[43m)\u001b[49m\n\u001b[0;32m      2\u001b[0m \u001b[38;5;28mprint\u001b[39m(eigenvalues)\n\u001b[0;32m      3\u001b[0m A \u001b[38;5;241m=\u001b[39m A\u001b[38;5;241m.\u001b[39mnumpy()\n",
      "File \u001b[1;32m~\\Desktop\\Atom\\FYS-STK\\Project\\FYS-STK4155-Project-3\\Eigenvects.py:136\u001b[0m, in \u001b[0;36mSearch_Until_Find\u001b[1;34m(A)\u001b[0m\n\u001b[0;32m    134\u001b[0m \u001b[38;5;28mprint\u001b[39m(\u001b[38;5;124mf\u001b[39m\u001b[38;5;124m\"\u001b[39m\u001b[38;5;124m### FINDING EIGENVECTOR NR.\u001b[39m\u001b[38;5;132;01m{\u001b[39;00m\u001b[38;5;28mlen\u001b[39m(eigenvalues)\u001b[38;5;132;01m}\u001b[39;00m\u001b[38;5;124m ###\u001b[39m\u001b[38;5;130;01m\\n\u001b[39;00m\u001b[38;5;124m\"\u001b[39m)\n\u001b[0;32m    135\u001b[0m solver \u001b[38;5;241m=\u001b[39m esnn\u001b[38;5;241m.\u001b[39meigSolverNN(A, starting_point)\n\u001b[1;32m--> 136\u001b[0m \u001b[43msolver\u001b[49m\u001b[38;5;241;43m.\u001b[39;49m\u001b[43mtrain_model\u001b[49m\u001b[43m(\u001b[49m\u001b[43mNepochs\u001b[49m\u001b[43m,\u001b[49m\u001b[43m \u001b[49m\u001b[43mNbatches\u001b[49m\u001b[43m)\u001b[49m\n\u001b[0;32m    137\u001b[0m eigenvalue, eigvector \u001b[38;5;241m=\u001b[39m solver\u001b[38;5;241m.\u001b[39mcompute_eig()\n\u001b[0;32m    139\u001b[0m \u001b[38;5;66;03m#SHOULD CHECK THAT WHAT WE HAVE GOTTEN SO FAR *IS* AN EIGENVECTOR.\u001b[39;00m\n\u001b[0;32m    140\u001b[0m \u001b[38;5;66;03m#OTHERWISE, TRAINING AGAIN WOULD NOT MAKE SENSE\u001b[39;00m\n",
      "File \u001b[1;32m~\\Desktop\\Atom\\FYS-STK\\Project\\FYS-STK4155-Project-3\\eigenSolverNN.py:228\u001b[0m, in \u001b[0;36meigSolverNN.train_model\u001b[1;34m(self, Nepochs, Nbatches, tolerance)\u001b[0m\n\u001b[0;32m    224\u001b[0m \t\u001b[38;5;28;01mreturn\u001b[39;00m \u001b[38;5;28;01mNone\u001b[39;00m\n\u001b[0;32m    226\u001b[0m \u001b[38;5;28;01mexcept\u001b[39;00m \u001b[38;5;167;01mKeyboardInterrupt\u001b[39;00m:\n\u001b[1;32m--> 228\u001b[0m \t\u001b[38;5;28mprint\u001b[39m(\u001b[38;5;124mf\u001b[39m\u001b[38;5;124m\"\u001b[39m\u001b[38;5;124mlosses were: initial \u001b[39m\u001b[38;5;132;01m{\u001b[39;00m\u001b[38;5;28mself\u001b[39m\u001b[38;5;241m.\u001b[39mlosses[\u001b[38;5;241m0\u001b[39m]\u001b[38;5;132;01m}\u001b[39;00m\u001b[38;5;124m, last: \u001b[39m\u001b[38;5;132;01m{\u001b[39;00m\u001b[38;5;28mself\u001b[39m\u001b[38;5;241m.\u001b[39mlosses[epoch\u001b[38;5;241m-\u001b[39m\u001b[38;5;241m1\u001b[39m]\u001b[38;5;132;01m}\u001b[39;00m\u001b[38;5;124m\"\u001b[39m)\n\u001b[0;32m    229\u001b[0m \t\u001b[38;5;28;01mreturn\u001b[39;00m \u001b[38;5;28;01mNone\u001b[39;00m\n",
      "\u001b[1;31mIndexError\u001b[0m: list index out of range"
     ]
    }
   ],
   "source": [
    "eigenvectors, eigenvalues = ev.Search_Until_Find(A)\n",
    "print(eigenvalues)\n",
    "A = A.numpy()\n",
    "#prints the true eigenvalues\n",
    "[E, V] = np.linalg.eigh(A)\n",
    "print(E)"
   ]
  },
  {
   "cell_type": "markdown",
   "id": "bef95257",
   "metadata": {},
   "source": [
    "Finds three of them, but seem to fail to find all the others"
   ]
  }
 ],
 "metadata": {
  "kernelspec": {
   "display_name": "Python 3 (ipykernel)",
   "language": "python",
   "name": "python3"
  },
  "language_info": {
   "codemirror_mode": {
    "name": "ipython",
    "version": 3
   },
   "file_extension": ".py",
   "mimetype": "text/x-python",
   "name": "python",
   "nbconvert_exporter": "python",
   "pygments_lexer": "ipython3",
   "version": "3.10.6"
  }
 },
 "nbformat": 4,
 "nbformat_minor": 5
}
