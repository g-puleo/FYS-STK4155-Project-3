{
 "cells": [
  {
   "cell_type": "markdown",
   "id": "47e9461e-e242-4c1b-a1aa-be23def33d42",
   "metadata": {},
   "source": [
    "## Diagonalizing symmetric matrix using forward euler\n",
    "Let $x\\in \\mathbb R^n$ and $A$ be a symmetric matrix of size $n\\times n $. The solution to the ODE\n",
    "$$     \\frac{dx}{dt} = -x(t) + f( x (t))  ,$$\n",
    "where \n",
    "$$     f ( x) =  \\left[ x^\\intercal  x A + (1- x^\\intercal A x)I\\right] x $$\n",
    "is known to converge to an eigenvector of the matrix $A$. Here we use forward euler to solve this equation, and exploit the approach outlined by \thttps://www.researchgate.net/publication/222949356_Neural_networks_based_approach_for_computing_eigenvectors_and_eigenvalues_of_symmetric_matrix in order to fully diagonalize the matrix. Results are checked against NumPy's library  function `np.linalg.eigh` . \n"
   ]
  },
  {
   "cell_type": "code",
   "execution_count": 1,
   "id": "1a220b6d-6f74-40a7-a9c0-73a1f80b7844",
   "metadata": {},
   "outputs": [],
   "source": [
    "import numpy as np\n",
    "import os, sys\n",
    "sys.path.append(os.path.join(os.getcwd(), \"../\"))\n",
    "import eigenSolverFE as esfe\n",
    "import Eigenvects\n",
    "import time\n",
    "import importlib\n",
    "import plotter\n",
    "import matplotlib.pyplot as plt"
   ]
  },
  {
   "cell_type": "code",
   "execution_count": 2,
   "id": "822f25f4-2347-4821-acc1-7ef0e6e43902",
   "metadata": {},
   "outputs": [],
   "source": [
    "#load the matrix\n",
    "A = np.load(\"A.npy\")\n",
    "#define (pseudo)random initial condition (once we generated it once we leave it fixed)\n",
    "x0 = np.array([-0.99581536, -0.44185623 , -0.72648535,  0.42184483, -0.4879591 , 0.32223256])"
   ]
  },
  {
   "cell_type": "code",
   "execution_count": 3,
   "id": "f0feff89-774f-4f7d-8105-1ea01bdbaa6b",
   "metadata": {},
   "outputs": [
    {
     "name": "stdout",
     "output_type": "stream",
     "text": [
      "Looking for 0-th eigenvector\n",
      "Initial condition:\n",
      "[-0.99581536 -0.44185623 -0.72648535  0.42184483 -0.4879591   0.32223256]\n",
      "Looking for 1-th eigenvector\n",
      "Initial condition:\n",
      "[-0.63510751 -0.40121513  0.60725109 -0.02808244 -0.16500768 -0.1972177 ]\n",
      "Looking for 2-th eigenvector\n",
      "Initial condition:\n",
      "[-0.25446738 -0.45675524 -0.0569535  -0.25783141  0.07351823  0.80715261]\n",
      "Looking for 3-th eigenvector\n",
      "Initial condition:\n",
      "[-0.08583852 -0.2462927   0.01103229  0.61256475  0.74229418  0.07492482]\n",
      "Looking for 4-th eigenvector\n",
      "Initial condition:\n",
      "[-0.11813854  0.11412819 -0.78229103 -0.15228835 -0.50011875  0.29618961]\n",
      "Looking for 5-th eigenvector\n",
      "Initial condition:\n",
      "[-0.15764154  0.24058518 -0.11757875 -0.50055898 -0.78335433 -0.1980905 ]\n",
      "Diagonalized matrix in 30.886 seconds\n",
      "Found the following spectrum: [-2.306563469253462, -1.5424883431191996, -0.5395527916085724, 0.19045385754244284, 1.685672063045669, 2.202005499960224]\n",
      "\n",
      "spectrum using numpy: [-2.30656508 -1.54248674 -0.53955334  0.19045441  1.68567193  2.20200564]\n",
      "\n",
      "\n",
      "and the following eigenvectors: [array([-0.00887171,  0.01353959, -0.00661707, -0.02817033, -0.04408542,\n",
      "       -0.01114809]), array([-0.00787058, -0.00434105, -0.17742561,  0.03007934, -0.01762547,\n",
      "        0.09999633]), array([-0.22986076, -0.01622343, -0.04760399,  0.12630182,  0.00328635,\n",
      "       -0.140674  ]), array([-0.17480675, -0.16253993,  0.09192253, -0.109623  , -0.00268937,\n",
      "        0.17478614]), array([ 0.27270737, -0.52570985,  0.16109194,  0.52943353, -0.58443502,\n",
      "        0.02220195]), array([-0.28544305,  0.96598574,  0.52035337,  0.60055041, -0.2876282 ,\n",
      "        0.71139672])]\n",
      "\n",
      "eigenvectors using numpy: [[-0.15769493 -0.03787681  0.76102559  0.53257334  0.27274858 -0.19107999]\n",
      " [ 0.24055456 -0.02134254  0.05331416  0.49464707 -0.52561788  0.64644081]\n",
      " [-0.1188243  -0.85770504  0.15788987 -0.27957645  0.16134307  0.34799292]\n",
      " [-0.50034815  0.14619051 -0.41869516  0.3331976   0.52989899  0.40144844]\n",
      " [-0.78347731 -0.08408188 -0.01089803  0.00818469 -0.58481246 -0.19209937]\n",
      " [-0.19738699  0.48374631  0.46652335 -0.53145019  0.02244824  0.47585778]]\n",
      "\n"
     ]
    }
   ],
   "source": [
    "eigvecs=[]\n",
    "eigvals=[]\n",
    "starttime = time.time()\n",
    "for jj in range(A.shape[0]):\n",
    "    print(f\"Looking for {jj}-th eigenvector\")\n",
    "    print(f\"Initial condition:\\n{x0}\")\n",
    "    t, xsol = esfe.forward_euler_sol(A, x0, Tmax=8, Nsteps=200000)\n",
    "    #solution at last step should be an eigenvector of A\n",
    "    curr_eigvec = xsol[:,-1]\n",
    "    \n",
    "    #we remove the component along other eigenvectors from the solution at the last step \n",
    "    #this is to ensure that eigvecs remains an orthogonal set within numerical precision\n",
    "    for ii in range(len(eigvecs)):\n",
    "        curr_eigvec-=Eigenvects.normalized_proj(curr_eigvec, eigvecs[ii])\n",
    "    \n",
    "    #compute the corresponding eigenvalue:\n",
    "    curr_eigval = (curr_eigvec.T @ A @ curr_eigvec)/np.linalg.norm(curr_eigvec)**2\n",
    "    eigvecs.append(curr_eigvec)\n",
    "    eigvals.append(curr_eigval)\n",
    "    x0 = Eigenvects.create_orthogonal(eigvecs)\n",
    "\n",
    "endtime = time.time()\n",
    "true_spectrum, true_eigvecs = np.linalg.eigh(A)\n",
    "eigvals.reverse()\n",
    "eigvecs.reverse()\n",
    "print(f\"Diagonalized matrix in {endtime-starttime:.3f} seconds\")\n",
    "print(f\"Found the following spectrum: {eigvals}\\n\")\n",
    "print(f\"spectrum using numpy: {true_spectrum}\\n\\n\")\n",
    "print(f\"and the following eigenvectors: {eigvecs}\\n\")\n",
    "print(f\"eigenvectors using numpy: {true_eigvecs}\\n\")"
   ]
  },
  {
   "cell_type": "markdown",
   "id": "c6d94fc7-1d2c-4071-b089-1f9a2894829e",
   "metadata": {},
   "source": [
    "### Comparison with numpy's library functions\n",
    "\n",
    "First we compute the relative error on every eigenvalue as\n",
    "$$ \\epsilon =  \\left \\lvert \\frac{\\lambda_{numerical}-\\lambda_{numpy}}{\\lambda_{numpy}}\\right\\rvert $$"
   ]
  },
  {
   "cell_type": "code",
   "execution_count": 4,
   "id": "51fef60a-afe4-4bdc-828d-bdc30c1784dd",
   "metadata": {},
   "outputs": [
    {
     "name": "stdout",
     "output_type": "stream",
     "text": [
      "[6.98864330e-07 1.04216033e-06 1.01136249e-06 2.88592885e-06\n",
      " 8.11882934e-08 6.23797407e-08]\n"
     ]
    }
   ],
   "source": [
    "relative_errors = np.abs((np.array(eigvals)-true_spectrum)/true_spectrum)\n",
    "print(relative_errors)"
   ]
  },
  {
   "cell_type": "markdown",
   "id": "addd416c-bbae-4ea9-8206-7016cc1c2329",
   "metadata": {},
   "source": [
    "To compare a numerical eigenvector $\\vert v\\rangle $ with an eigenvector $\\vert w \\rangle$ gotten by numpy.linalg.eigh, we check if the following equality holds:\n",
    "$$ \\frac{\\langle v \\vert w \\rangle ^2}{\\langle v \\vert v \\rangle \\langle w\\vert w\\rangle} = 1 $$\n",
    "This happens if and only if $\\vert v \\rangle$ and $\\vert w \\rangle $ are parallel (see Cauchy-Schwarz inequality as a reference)"
   ]
  },
  {
   "cell_type": "code",
   "execution_count": 5,
   "id": "be989c28-66ee-412a-8435-2f25d8617d88",
   "metadata": {},
   "outputs": [],
   "source": [
    "def parallel_check(v,w):\n",
    "    '''should return 1 if v and w are parallel'''\n",
    "    num = np.dot(v,w)**2\n",
    "    den = np.dot(v,v)*np.dot(w,w)\n",
    "    \n",
    "    return num/den"
   ]
  },
  {
   "cell_type": "code",
   "execution_count": 6,
   "id": "26b57513-606d-416f-9926-46d6ad5d2112",
   "metadata": {},
   "outputs": [
    {
     "name": "stdout",
     "output_type": "stream",
     "text": [
      "2.1096927503849727e-06\n",
      "2.1141226966836513e-06\n",
      "7.580503271764627e-07\n",
      "7.539471889028704e-07\n",
      "2.6636743033492394e-07\n",
      "2.660305490342907e-07\n"
     ]
    }
   ],
   "source": [
    "#this for loop should print values which are very close to zero\n",
    "#if eigvecs are nicely parallel to the true_eigvecs found by numpy.linalg.eigh\n",
    "Lcheck = []\n",
    "for ii in range(6):\n",
    "    Lcheck.append(1-parallel_check(eigvecs[ii], true_eigvecs[:,ii]))\n",
    "    print(Lcheck[ii])"
   ]
  },
  {
   "cell_type": "code",
   "execution_count": 7,
   "id": "d82f4f87-69c2-4cff-adf5-f7fc3039c371",
   "metadata": {},
   "outputs": [
    {
     "name": "stdout",
     "output_type": "stream",
     "text": [
      "-2.307 & -2.307 & 6.99e-07 & 2.11e-06 \\\\\n",
      "-1.542 & -1.542 & 1.04e-06 & 2.11e-06 \\\\\n",
      "-0.540 & -0.540 & 1.01e-06 & 7.58e-07 \\\\\n",
      "0.190 & 0.190 & 2.89e-06 & 7.54e-07 \\\\\n",
      "1.686 & 1.686 & 8.12e-08 & 2.66e-07 \\\\\n",
      "2.202 & 2.202 & 6.24e-08 & 2.66e-07 \\\\\n"
     ]
    }
   ],
   "source": [
    "#print nice table in tex format\n",
    "for ii in range(6):\n",
    "    print(f\"{true_spectrum[ii]:.3f}\", f\"{eigvals[ii]:.3f}\", f\"{relative_errors[ii]:.2e}\",\n",
    "          f\"{Lcheck[ii]:.2e}\", sep=\" & \", end = \" \\\\\\\\\\n\")"
   ]
  },
  {
   "cell_type": "markdown",
   "id": "6211df2c-f0ba-495c-8748-2ab685510468",
   "metadata": {},
   "source": [
    "### Plot of the FE solution with the first initial condition"
   ]
  },
  {
   "cell_type": "code",
   "execution_count": 8,
   "id": "093d4b47-dacf-49cf-b16a-c74171dbb2a0",
   "metadata": {},
   "outputs": [],
   "source": [
    "x0 = np.array([-0.99581536, -0.44185623 , -0.72648535,  0.42184483, -0.4879591 , 0.32223256])\n",
    "t, xsol = esfe.forward_euler_sol(A, x0, Tmax=8, Nsteps=200000)"
   ]
  },
  {
   "cell_type": "code",
   "execution_count": 9,
   "id": "7ff4eabd-e327-44de-a654-85cac5d698b3",
   "metadata": {},
   "outputs": [
    {
     "data": {
      "image/png": "[encoded data removed]",
      "text/plain": [
       "<Figure size 331.3x300 with 1 Axes>"
      ]
     },
     "metadata": {},
     "output_type": "display_data"
    }
   ],
   "source": [
    "fig = plotter.plot_eigenvector_components_convergence(t, xsol)\n",
    "ax = fig.axes[0]\n",
    "x_eig = np.array([0,8])\n",
    "#want to renormalize the true eigvector to match the norm of the numerical FE estimate\n",
    "ratio= eigvecs[5][0]/true_eigvecs[0,5]\n",
    "for jj in range(6):\n",
    "    #ax.lines[jj]._label = f\"{jj+1}\"\n",
    "    ax.plot(x_eig, ratio*true_eigvecs[jj,5]*np.ones(2), color='black', linestyle='-.', alpha=0.5)\n",
    "ax.lines[6]._label = \"numpy\"\n",
    "ax.legend()\n",
    "#fig.savefig(\"fe_solution.pdf\", bbox_inches='tight')\n"
   ]
  }
 ],
 "metadata": {
  "kernelspec": {
   "display_name": "Python 3 (ipykernel)",
   "language": "python",
   "name": "python3"
  },
  "language_info": {
   "codemirror_mode": {
    "name": "ipython",
    "version": 3
   },
   "file_extension": ".py",
   "mimetype": "text/x-python",
   "name": "python",
   "nbconvert_exporter": "python",
   "pygments_lexer": "ipython3",
   "version": "3.10.8"
  }
 },
 "nbformat": 4,
 "nbformat_minor": 5
}
