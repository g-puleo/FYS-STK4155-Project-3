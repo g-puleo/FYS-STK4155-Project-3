{
 "cells": [
  {
   "cell_type": "markdown",
   "id": "2245e642-5b24-46b5-a0a6-518ef62e24cd",
   "metadata": {},
   "source": [
    "### Searching for eigenvectors using a neural network\n",
    "This notebook contains a very long cell output, which summarizes the search of eigenvectors using our neural network. Sometimes the network finds a new eigenvector, other times the gradient descent goes towards the zero vector and needs to be interrupted. \n",
    "To run this notebook simply run the call to `ev.Search_Until_Find` and wait for the network to be trained. Once a model is trained different things can happen:\n",
    "\n",
    "1. A new eigenvector is found and it is therefore stored together with the trained model.\n",
    "\n",
    "2. An eigenvector is found but it's multiple of another previously found, so it is discarded.\n",
    "\n",
    "3. A vector $v$ which is not an eigenvector is found. This is considered to be the case when the elementwise division $ x_i = (Av)_i/v_i $ is assessed, and at least one value of $x_i$ differs by $x_0$ by more than $10\\%$. In this case, the user is asked whether to continue the training or to just start with a new model."
   ]
  },
  {
   "cell_type": "code",
   "execution_count": 1,
   "id": "992b5f06",
   "metadata": {},
   "outputs": [],
   "source": [
    "import os, sys\n",
    "sys.path.append(os.path.join(os.getcwd(), \"../\"))\n",
    "import eigenSolverNN as esnn\n",
    "import numpy as np\n",
    "import tensorflow as tf\n",
    "import warnings\n",
    "import Eigenvects as ev"
   ]
  },
  {
   "cell_type": "code",
   "execution_count": 2,
   "id": "5f418cb6",
   "metadata": {},
   "outputs": [],
   "source": [
    "A = np.load('../A.npy')\n",
    "A = tf.convert_to_tensor(A)"
   ]
  },
  {
   "cell_type": "code",
   "execution_count": 3,
   "id": "0e2681b3",
   "metadata": {},
   "outputs": [
    {
     "name": "stdout",
     "output_type": "stream",
     "text": [
      "### FINDING EIGENVECTOR NR. 0 ###\n",
      "\n",
      "attempt number 1.\n",
      "\n",
      "\n",
      " Training model with SGD using 1 batches and 50000 epochs.\n"
     ]
    },
    {
     "name": "stderr",
     "output_type": "stream",
     "text": [
      "100%|████████████████████████████████████████████████████████████████████████████████████| 50000/50000 [01:39<00:00, 502.28it/s]\n"
     ]
    },
    {
     "name": "stdout",
     "output_type": "stream",
     "text": [
      "losses were: initial 6.988504578902842, last: 0.18627181872619472\n",
      "For a perfect eigenvector, the following should be all 1.000\n",
      "[[1.00411561]\n",
      " [1.00163301]\n",
      " [0.97771642]\n",
      " [0.99946719]\n",
      " [1.00115463]\n",
      " [0.9888993 ]]\n",
      "Found new eigenvector: \n",
      " [[-0.20607068  0.31475266 -0.16093815 -0.65322574 -1.02421859 -0.25876062]] \n",
      " eigenvalue [[-2.30653569]]\n",
      "### FINDING EIGENVECTOR NR. 1 ###\n",
      "\n",
      "attempt number 2.\n",
      "\n",
      "\n",
      " Training model with SGD using 1 batches and 50000 epochs.\n"
     ]
    },
    {
     "name": "stderr",
     "output_type": "stream",
     "text": [
      "100%|████████████████████████████████████████████████████████████████████████████████████| 50000/50000 [01:37<00:00, 514.50it/s]\n"
     ]
    },
    {
     "name": "stdout",
     "output_type": "stream",
     "text": [
      "losses were: initial 9.850976021994038, last: 0.1518480924512555\n",
      "For a perfect eigenvector, the following should be all 1.000\n",
      "[[0.99141429]\n",
      " [1.00551381]\n",
      " [0.99546856]\n",
      " [0.99807977]\n",
      " [1.00124272]\n",
      " [0.99204503]]\n",
      "Duplicate [[-2.30654918]]\n",
      "### FINDING EIGENVECTOR NR. 1 ###\n",
      "\n",
      "attempt number 3.\n",
      "\n",
      "\n",
      " Training model with SGD using 1 batches and 50000 epochs.\n"
     ]
    },
    {
     "name": "stderr",
     "output_type": "stream",
     "text": [
      "100%|████████████████████████████████████████████████████████████████████████████████████| 50000/50000 [01:40<00:00, 497.85it/s]\n"
     ]
    },
    {
     "name": "stdout",
     "output_type": "stream",
     "text": [
      "losses were: initial 201.5776124844819, last: 15.82489488319254\n",
      "For a perfect eigenvector, the following should be all 1.000\n",
      "[[0.99713475]\n",
      " [1.00024708]\n",
      " [1.00065778]\n",
      " [1.00052169]\n",
      " [0.99968267]\n",
      " [0.99933975]]\n",
      "Found new eigenvector: \n",
      " [[-0.83798894  2.82540136  1.52003514  1.75208929 -0.83798888  2.0808348 ]] \n",
      " eigenvalue [[2.20200437]]\n",
      "### FINDING EIGENVECTOR NR. 2 ###\n",
      "\n",
      "attempt number 4.\n",
      "\n",
      "\n",
      " Training model with SGD using 1 batches and 50000 epochs.\n"
     ]
    },
    {
     "name": "stderr",
     "output_type": "stream",
     "text": [
      "100%|████████████████████████████████████████████████████████████████████████████████████| 50000/50000 [01:41<00:00, 493.96it/s]\n"
     ]
    },
    {
     "name": "stdout",
     "output_type": "stream",
     "text": [
      "losses were: initial 50.942967352383164, last: 1.8231632876421744\n",
      "For a perfect eigenvector, the following should be all 1.000\n",
      "[[1.00194873]\n",
      " [1.00321995]\n",
      " [1.00515367]\n",
      " [1.0011859 ]\n",
      " [0.99925535]\n",
      " [0.99635543]]\n",
      "Duplicate [[-2.30655892]]\n",
      "### FINDING EIGENVECTOR NR. 2 ###\n",
      "\n",
      "attempt number 5.\n",
      "\n",
      "\n",
      " Training model with SGD using 1 batches and 50000 epochs.\n"
     ]
    },
    {
     "name": "stderr",
     "output_type": "stream",
     "text": [
      "100%|████████████████████████████████████████████████████████████████████████████████████| 50000/50000 [01:39<00:00, 503.47it/s]\n",
      "/media/gianmarco/Users/HOME/Desktop/università/Machine Learning/FYS-STK4155-Project-3/notebooks/../Eigenvects.py:51: UserWarning: eigenvector ([[0.06045649 0.18452951 0.0513631  0.0625474  0.02358325 0.01218203]]) might not be an eigenvector of A.\n",
      "  warnings.warn(f\"eigenvector ({eigvec}) might not be an eigenvector of A.\")\n"
     ]
    },
    {
     "name": "stdout",
     "output_type": "stream",
     "text": [
      "losses were: initial 16.780215548658013, last: 0.17114639084511762\n",
      "For a perfect eigenvector, the following should be all 1.000\n",
      "[[-1.43170474]\n",
      " [ 1.28576954]\n",
      " [ 0.58684388]\n",
      " [ 1.148765  ]\n",
      " [-2.08748189]\n",
      " [10.31400548]]\n",
      "Found something not an eigenvector of A: \n",
      " [[0.06045649 0.18452951 0.0513631  0.0625474  0.02358325 0.01218203]]\n",
      "Approximate eigenvalue is [1.20171636].\n",
      "Do you want to keep training the same model?[y/n]\n"
     ]
    },
    {
     "name": "stdin",
     "output_type": "stream",
     "text": [
      " n\n"
     ]
    },
    {
     "name": "stdout",
     "output_type": "stream",
     "text": [
      "### FINDING EIGENVECTOR NR. 2 ###\n",
      "\n",
      "attempt number 6.\n",
      "\n",
      "\n",
      " Training model with SGD using 1 batches and 50000 epochs.\n"
     ]
    },
    {
     "name": "stderr",
     "output_type": "stream",
     "text": [
      "100%|████████████████████████████████████████████████████████████████████████████████████| 50000/50000 [01:38<00:00, 506.31it/s]\n"
     ]
    },
    {
     "name": "stdout",
     "output_type": "stream",
     "text": [
      "losses were: initial 7.599443906610889, last: 0.15314437800100594\n",
      "For a perfect eigenvector, the following should be all 1.000\n",
      "[[0.9458893 ]\n",
      " [1.02247458]\n",
      " [1.05788706]\n",
      " [0.99592299]\n",
      " [0.99883914]\n",
      " [1.03445519]]\n",
      "Duplicate [[-2.30612693]]\n",
      "### FINDING EIGENVECTOR NR. 2 ###\n",
      "\n",
      "attempt number 7.\n",
      "\n",
      "\n",
      " Training model with SGD using 1 batches and 50000 epochs.\n"
     ]
    },
    {
     "name": "stderr",
     "output_type": "stream",
     "text": [
      "100%|████████████████████████████████████████████████████████████████████████████████████| 50000/50000 [01:36<00:00, 519.66it/s]\n"
     ]
    },
    {
     "name": "stdout",
     "output_type": "stream",
     "text": [
      "losses were: initial 85.7734336028685, last: 0.15916149603526747\n",
      "For a perfect eigenvector, the following should be all 1.000\n",
      "[[1.01988616]\n",
      " [0.99918828]\n",
      " [0.99242345]\n",
      " [0.99665792]\n",
      " [1.02800154]\n",
      " [1.00047711]]\n",
      "Duplicate [[2.20192715]]\n",
      "### FINDING EIGENVECTOR NR. 2 ###\n",
      "\n",
      "attempt number 8.\n",
      "\n",
      "\n",
      " Training model with SGD using 1 batches and 50000 epochs.\n"
     ]
    },
    {
     "name": "stderr",
     "output_type": "stream",
     "text": [
      "100%|████████████████████████████████████████████████████████████████████████████████████| 50000/50000 [01:40<00:00, 495.08it/s]\n",
      "/media/gianmarco/Users/HOME/Desktop/università/Machine Learning/FYS-STK4155-Project-3/notebooks/../Eigenvects.py:51: UserWarning: eigenvector ([[ 0.0611282  -0.32968459 -0.0184792   0.06606377 -0.0516172  -0.10404293]]) might not be an eigenvector of A.\n",
      "  warnings.warn(f\"eigenvector ({eigvec}) might not be an eigenvector of A.\")\n"
     ]
    },
    {
     "name": "stdout",
     "output_type": "stream",
     "text": [
      "losses were: initial 62.28916490011667, last: 1.7134008265496583\n",
      "For a perfect eigenvector, the following should be all 1.000\n",
      "[[ 1.98086749]\n",
      " [ 0.94111245]\n",
      " [ 4.64495568]\n",
      " [-0.62102229]\n",
      " [ 2.80073959]\n",
      " [ 1.34806724]]\n",
      "Found something not an eigenvector of A: \n",
      " [[ 0.0611282  -0.32968459 -0.0184792   0.06606377 -0.0516172  -0.10404293]]\n",
      "Approximate eigenvalue is [1.74086353].\n",
      "Do you want to keep training the same model?[y/n]\n"
     ]
    },
    {
     "name": "stdin",
     "output_type": "stream",
     "text": [
      " n\n"
     ]
    },
    {
     "name": "stdout",
     "output_type": "stream",
     "text": [
      "### FINDING EIGENVECTOR NR. 2 ###\n",
      "\n",
      "attempt number 9.\n",
      "\n",
      "\n",
      " Training model with SGD using 1 batches and 50000 epochs.\n"
     ]
    },
    {
     "name": "stderr",
     "output_type": "stream",
     "text": [
      "100%|████████████████████████████████████████████████████████████████████████████████████| 50000/50000 [01:43<00:00, 481.61it/s]\n",
      "/media/gianmarco/Users/HOME/Desktop/università/Machine Learning/FYS-STK4155-Project-3/notebooks/../Eigenvects.py:51: UserWarning: eigenvector ([[-0.35951391 -0.07280769  0.0046406   0.20701343  0.05644232 -0.23085133]]) might not be an eigenvector of A.\n",
      "  warnings.warn(f\"eigenvector ({eigvec}) might not be an eigenvector of A.\")\n"
     ]
    },
    {
     "name": "stdout",
     "output_type": "stream",
     "text": [
      "losses were: initial 34.767555487490725, last: 0.3425312964405829\n",
      "For a perfect eigenvector, the following should be all 1.000\n",
      "[[ 0.82685518]\n",
      " [ 0.26890567]\n",
      " [30.17433744]\n",
      " [ 1.37585815]\n",
      " [ 4.04198871]\n",
      " [ 0.9967731 ]]\n",
      "Found something not an eigenvector of A: \n",
      " [[-0.35951391 -0.07280769  0.0046406   0.20701343  0.05644232 -0.23085133]]\n",
      "Approximate eigenvalue is [-0.5861281].\n",
      "Do you want to keep training the same model?[y/n]\n"
     ]
    },
    {
     "name": "stdin",
     "output_type": "stream",
     "text": [
      " n\n"
     ]
    },
    {
     "name": "stdout",
     "output_type": "stream",
     "text": [
      "### FINDING EIGENVECTOR NR. 2 ###\n",
      "\n",
      "attempt number 10.\n",
      "\n",
      "\n",
      " Training model with SGD using 1 batches and 50000 epochs.\n"
     ]
    },
    {
     "name": "stderr",
     "output_type": "stream",
     "text": [
      "100%|████████████████████████████████████████████████████████████████████████████████████| 50000/50000 [01:37<00:00, 511.15it/s]\n",
      "/media/gianmarco/Users/HOME/Desktop/università/Machine Learning/FYS-STK4155-Project-3/notebooks/../Eigenvects.py:51: UserWarning: eigenvector ([[ 0.07185566 -0.12052662  0.03228389  0.24506733  0.37645512  0.10550336]]) might not be an eigenvector of A.\n",
      "  warnings.warn(f\"eigenvector ({eigvec}) might not be an eigenvector of A.\")\n"
     ]
    },
    {
     "name": "stdout",
     "output_type": "stream",
     "text": [
      "losses were: initial 1.678247235960124, last: 0.025125769920366334\n",
      "For a perfect eigenvector, the following should be all 1.000\n",
      "[[1.03031802]\n",
      " [0.94546348]\n",
      " [1.32726712]\n",
      " [1.0053608 ]\n",
      " [0.99974373]\n",
      " [1.00080498]]\n",
      "Found something not an eigenvector of A: \n",
      " [[ 0.07185566 -0.12052662  0.03228389  0.24506733  0.37645512  0.10550336]]\n",
      "Approximate eigenvalue is [-2.30362295].\n",
      "Do you want to keep training the same model?[y/n]\n"
     ]
    },
    {
     "name": "stdin",
     "output_type": "stream",
     "text": [
      " nù\n"
     ]
    },
    {
     "name": "stdout",
     "output_type": "stream",
     "text": [
      "### FINDING EIGENVECTOR NR. 2 ###\n",
      "\n",
      "attempt number 11.\n",
      "\n",
      "\n",
      " Training model with SGD using 1 batches and 50000 epochs.\n"
     ]
    },
    {
     "name": "stderr",
     "output_type": "stream",
     "text": [
      "100%|████████████████████████████████████████████████████████████████████████████████████| 50000/50000 [01:39<00:00, 501.21it/s]\n",
      "/media/gianmarco/Users/HOME/Desktop/università/Machine Learning/FYS-STK4155-Project-3/notebooks/../Eigenvects.py:51: UserWarning: eigenvector ([[-0.03772881 -0.0103849  -0.92159072  0.13765375 -0.11583336  0.52046402]]) might not be an eigenvector of A.\n",
      "  warnings.warn(f\"eigenvector ({eigvec}) might not be an eigenvector of A.\")\n"
     ]
    },
    {
     "name": "stdout",
     "output_type": "stream",
     "text": [
      "losses were: initial 3.8786413309855137, last: 0.004421247538540952\n",
      "For a perfect eigenvector, the following should be all 1.000\n",
      "[[1.15220814]\n",
      " [1.58311287]\n",
      " [1.00691341]\n",
      " [0.93709742]\n",
      " [1.09879619]\n",
      " [0.97679815]]\n",
      "Found something not an eigenvector of A: \n",
      " [[-0.03772881 -0.0103849  -0.92159072  0.13765375 -0.11583336  0.52046402]]\n",
      "Approximate eigenvalue is [-1.54296629].\n",
      "Do you want to keep training the same model?[y/n]\n"
     ]
    },
    {
     "name": "stdin",
     "output_type": "stream",
     "text": [
      " y\n"
     ]
    },
    {
     "name": "stdout",
     "output_type": "stream",
     "text": [
      "### FINDING EIGENVECTOR NR. 2 ###\n",
      "\n",
      "attempt number 11.\n",
      "\n",
      "\n",
      " Training model with SGD using 1 batches and 50000 epochs.\n"
     ]
    },
    {
     "name": "stderr",
     "output_type": "stream",
     "text": [
      "100%|████████████████████████████████████████████████████████████████████████████████████| 50000/50000 [01:34<00:00, 526.97it/s]\n",
      "/media/gianmarco/Users/HOME/Desktop/università/Machine Learning/FYS-STK4155-Project-3/notebooks/../Eigenvects.py:51: UserWarning: eigenvector ([[-0.04052292 -0.01334363 -0.93533052  0.14544165 -0.11151553  0.52653548]]) might not be an eigenvector of A.\n",
      "  warnings.warn(f\"eigenvector ({eigvec}) might not be an eigenvector of A.\")\n"
     ]
    },
    {
     "name": "stdout",
     "output_type": "stream",
     "text": [
      "losses were: initial 0.004421236976001815, last: 0.0042224824380777855\n",
      "For a perfect eigenvector, the following should be all 1.000\n",
      "[[1.08782997]\n",
      " [1.3764376 ]\n",
      " [1.00506497]\n",
      " [0.94682812]\n",
      " [1.07895424]\n",
      " [0.98377073]]\n",
      "Found something not an eigenvector of A: \n",
      " [[-0.04052292 -0.01334363 -0.93533052  0.14544165 -0.11151553  0.52653548]]\n",
      "Approximate eigenvalue is [-1.54279641].\n",
      "Do you want to keep training the same model?[y/n]\n"
     ]
    },
    {
     "name": "stdin",
     "output_type": "stream",
     "text": [
      " y\n"
     ]
    },
    {
     "name": "stdout",
     "output_type": "stream",
     "text": [
      "### FINDING EIGENVECTOR NR. 2 ###\n",
      "\n",
      "attempt number 11.\n",
      "\n",
      "\n",
      " Training model with SGD using 1 batches and 50000 epochs.\n"
     ]
    },
    {
     "name": "stderr",
     "output_type": "stream",
     "text": [
      "100%|████████████████████████████████████████████████████████████████████████████████████| 50000/50000 [01:40<00:00, 498.09it/s]\n",
      "/media/gianmarco/Users/HOME/Desktop/università/Machine Learning/FYS-STK4155-Project-3/notebooks/../Eigenvects.py:51: UserWarning: eigenvector ([[-0.04146208 -0.01723095 -0.96063348  0.1547388  -0.10687762  0.54198823]]) might not be an eigenvector of A.\n",
      "  warnings.warn(f\"eigenvector ({eigvec}) might not be an eigenvector of A.\")\n"
     ]
    },
    {
     "name": "stdout",
     "output_type": "stream",
     "text": [
      "losses were: initial 0.0042224809183765265, last: 0.0041829378411330255\n",
      "For a perfect eigenvector, the following should be all 1.000\n",
      "[[1.05718141]\n",
      " [1.23469961]\n",
      " [1.0037279 ]\n",
      " [0.96690319]\n",
      " [1.05058158]\n",
      " [0.98844782]]\n",
      "Found something not an eigenvector of A: \n",
      " [[-0.04146208 -0.01723095 -0.96063348  0.1547388  -0.10687762  0.54198823]]\n",
      "Approximate eigenvalue is [-1.54259044].\n",
      "Do you want to keep training the same model?[y/n]\n"
     ]
    },
    {
     "name": "stdin",
     "output_type": "stream",
     "text": [
      " y\n"
     ]
    },
    {
     "name": "stdout",
     "output_type": "stream",
     "text": [
      "### FINDING EIGENVECTOR NR. 2 ###\n",
      "\n",
      "attempt number 11.\n",
      "\n",
      "\n",
      " Training model with SGD using 1 batches and 50000 epochs.\n"
     ]
    },
    {
     "name": "stderr",
     "output_type": "stream",
     "text": [
      "100%|████████████████████████████████████████████████████████████████████████████████████| 50000/50000 [01:38<00:00, 507.30it/s]\n",
      "/media/gianmarco/Users/HOME/Desktop/università/Machine Learning/FYS-STK4155-Project-3/notebooks/../Eigenvects.py:51: UserWarning: eigenvector ([[-0.04159878 -0.01823381 -0.96682252  0.15697523 -0.10544061  0.54576205]]) might not be an eigenvector of A.\n",
      "  warnings.warn(f\"eigenvector ({eigvec}) might not be an eigenvector of A.\")\n"
     ]
    },
    {
     "name": "stdout",
     "output_type": "stream",
     "text": [
      "losses were: initial 0.004182937040131531, last: 0.0041696011086326465\n",
      "For a perfect eigenvector, the following should be all 1.000\n",
      "[[1.05014626]\n",
      " [1.20864966]\n",
      " [1.0032296 ]\n",
      " [0.97372988]\n",
      " [1.0447103 ]\n",
      " [0.98984492]]\n",
      "Found something not an eigenvector of A: \n",
      " [[-0.04159878 -0.01823381 -0.96682252  0.15697523 -0.10544061  0.54576205]]\n",
      "Approximate eigenvalue is [-1.54255402].\n",
      "Do you want to keep training the same model?[y/n]\n"
     ]
    },
    {
     "name": "stdin",
     "output_type": "stream",
     "text": [
      " Y\n"
     ]
    },
    {
     "name": "stdout",
     "output_type": "stream",
     "text": [
      "### FINDING EIGENVECTOR NR. 2 ###\n",
      "\n",
      "attempt number 11.\n",
      "\n",
      "\n",
      " Training model with SGD using 1 batches and 50000 epochs.\n"
     ]
    },
    {
     "name": "stderr",
     "output_type": "stream",
     "text": [
      "100%|████████████████████████████████████████████████████████████████████████████████████| 50000/50000 [01:36<00:00, 516.63it/s]\n",
      "/media/gianmarco/Users/HOME/Desktop/università/Machine Learning/FYS-STK4155-Project-3/notebooks/../Eigenvects.py:51: UserWarning: eigenvector ([[-0.04100123 -0.01804789 -0.96959475  0.15749174 -0.10550773  0.54740333]]) might not be an eigenvector of A.\n",
      "  warnings.warn(f\"eigenvector ({eigvec}) might not be an eigenvector of A.\")\n"
     ]
    },
    {
     "name": "stdout",
     "output_type": "stream",
     "text": [
      "losses were: initial 0.004169600883347441, last: 0.004162163816770817\n",
      "For a perfect eigenvector, the following should be all 1.000\n",
      "[[1.06351443]\n",
      " [1.23414952]\n",
      " [1.00314203]\n",
      " [0.97402552]\n",
      " [1.04395911]\n",
      " [0.99004842]]\n",
      "Found something not an eigenvector of A: \n",
      " [[-0.04100123 -0.01804789 -0.96959475  0.15749174 -0.10550773  0.54740333]]\n",
      "Approximate eigenvalue is [-1.54254331].\n",
      "Do you want to keep training the same model?[y/n]\n"
     ]
    },
    {
     "name": "stdin",
     "output_type": "stream",
     "text": [
      " n\n"
     ]
    },
    {
     "name": "stdout",
     "output_type": "stream",
     "text": [
      "### FINDING EIGENVECTOR NR. 2 ###\n",
      "\n",
      "attempt number 12.\n",
      "\n",
      "\n",
      " Training model with SGD using 1 batches and 50000 epochs.\n"
     ]
    },
    {
     "name": "stderr",
     "output_type": "stream",
     "text": [
      "100%|████████████████████████████████████████████████████████████████████████████████████| 50000/50000 [01:43<00:00, 484.12it/s]\n"
     ]
    },
    {
     "name": "stdout",
     "output_type": "stream",
     "text": [
      "losses were: initial 82.55317128951737, last: 4.051899442919599\n",
      "For a perfect eigenvector, the following should be all 1.000\n",
      "[[0.99760746]\n",
      " [1.04366268]\n",
      " [1.0021264 ]\n",
      " [0.99859511]\n",
      " [1.09825934]\n",
      " [1.00666056]]\n",
      "Found new eigenvector: \n",
      " [[-2.98110885 -0.20852196 -0.61323654  1.6382576   0.04335981 -1.82361518]] \n",
      " eigenvalue [[-0.53955159]]\n",
      "### FINDING EIGENVECTOR NR. 3 ###\n",
      "\n",
      "attempt number 13.\n",
      "\n",
      "\n",
      " Training model with SGD using 1 batches and 50000 epochs.\n"
     ]
    },
    {
     "name": "stderr",
     "output_type": "stream",
     "text": [
      "100%|████████████████████████████████████████████████████████████████████████████████████| 50000/50000 [01:39<00:00, 500.17it/s]\n",
      "/media/gianmarco/Users/HOME/Desktop/università/Machine Learning/FYS-STK4155-Project-3/notebooks/../Eigenvects.py:51: UserWarning: eigenvector ([[-0.04524413  0.10064957 -0.03076234 -0.22042922 -0.35433782 -0.10252496]]) might not be an eigenvector of A.\n",
      "  warnings.warn(f\"eigenvector ({eigvec}) might not be an eigenvector of A.\")\n"
     ]
    },
    {
     "name": "stdout",
     "output_type": "stream",
     "text": [
      "losses were: initial 8.34759621236695, last: 0.026245077952075056\n",
      "For a perfect eigenvector, the following should be all 1.000\n",
      "[[1.59884092]\n",
      " [1.17297145]\n",
      " [1.20772121]\n",
      " [1.05236278]\n",
      " [0.96319794]\n",
      " [0.89551887]]\n",
      "Found something not an eigenvector of A: \n",
      " [[-0.04524413  0.10064957 -0.03076234 -0.22042922 -0.35433782 -0.10252496]]\n",
      "Approximate eigenvalue is [-2.29278315].\n",
      "Do you want to keep training the same model?[y/n]\n"
     ]
    },
    {
     "name": "stdin",
     "output_type": "stream",
     "text": [
      " n\n"
     ]
    },
    {
     "name": "stdout",
     "output_type": "stream",
     "text": [
      "### FINDING EIGENVECTOR NR. 3 ###\n",
      "\n",
      "attempt number 14.\n",
      "\n",
      "\n",
      " Training model with SGD using 1 batches and 50000 epochs.\n"
     ]
    },
    {
     "name": "stderr",
     "output_type": "stream",
     "text": [
      "100%|████████████████████████████████████████████████████████████████████████████████████| 50000/50000 [01:40<00:00, 499.95it/s]\n"
     ]
    },
    {
     "name": "stdout",
     "output_type": "stream",
     "text": [
      "losses were: initial 24.85978039472774, last: 0.1046501635677007\n",
      "For a perfect eigenvector, the following should be all 1.000\n",
      "[[1.02151444]\n",
      " [0.99951789]\n",
      " [1.00199695]\n",
      " [0.99550256]\n",
      " [1.00889622]\n",
      " [0.99828615]]\n",
      "Duplicate [[2.20196059]]\n",
      "### FINDING EIGENVECTOR NR. 3 ###\n",
      "\n",
      "attempt number 15.\n",
      "\n",
      "\n",
      " Training model with SGD using 1 batches and 50000 epochs.\n"
     ]
    },
    {
     "name": "stderr",
     "output_type": "stream",
     "text": [
      "100%|████████████████████████████████████████████████████████████████████████████████████| 50000/50000 [01:41<00:00, 494.99it/s]\n",
      "/media/gianmarco/Users/HOME/Desktop/università/Machine Learning/FYS-STK4155-Project-3/notebooks/../Eigenvects.py:51: UserWarning: eigenvector ([[-0.34467001 -0.01455682 -0.08702666  0.21882309  0.00937763 -0.22208951]]) might not be an eigenvector of A.\n",
      "  warnings.warn(f\"eigenvector ({eigvec}) might not be an eigenvector of A.\")\n"
     ]
    },
    {
     "name": "stdout",
     "output_type": "stream",
     "text": [
      "losses were: initial 4.787132434294863, last: 0.04609535133941244\n",
      "For a perfect eigenvector, the following should be all 1.000\n",
      "[[1.03630588]\n",
      " [3.52325861]\n",
      " [1.22991207]\n",
      " [0.94253519]\n",
      " [6.00380094]\n",
      " [0.91327886]]\n",
      "Found something not an eigenvector of A: \n",
      " [[-0.34467001 -0.01455682 -0.08702666  0.21882309  0.00937763 -0.22208951]]\n",
      "Approximate eigenvalue is [-0.53852477].\n",
      "Do you want to keep training the same model?[y/n]\n"
     ]
    },
    {
     "name": "stdin",
     "output_type": "stream",
     "text": [
      " n\n"
     ]
    },
    {
     "name": "stdout",
     "output_type": "stream",
     "text": [
      "### FINDING EIGENVECTOR NR. 3 ###\n",
      "\n",
      "attempt number 16.\n",
      "\n",
      "\n",
      " Training model with SGD using 1 batches and 50000 epochs.\n"
     ]
    },
    {
     "name": "stderr",
     "output_type": "stream",
     "text": [
      "100%|████████████████████████████████████████████████████████████████████████████████████| 50000/50000 [01:40<00:00, 498.53it/s]\n",
      "/media/gianmarco/Users/HOME/Desktop/università/Machine Learning/FYS-STK4155-Project-3/notebooks/../Eigenvects.py:51: UserWarning: eigenvector ([[ 0.0740448  -0.15643631  0.16065779  0.38024711 -0.39615264  0.11568677]]) might not be an eigenvector of A.\n",
      "  warnings.warn(f\"eigenvector ({eigvec}) might not be an eigenvector of A.\")\n"
     ]
    },
    {
     "name": "stdout",
     "output_type": "stream",
     "text": [
      "losses were: initial 21.27849597088085, last: 0.7461821739693345\n",
      "For a perfect eigenvector, the following should be all 1.000\n",
      "[[1.43640229]\n",
      " [0.72478873]\n",
      " [1.24066932]\n",
      " [1.09780735]\n",
      " [0.86758093]\n",
      " [1.3564266 ]]\n",
      "Found something not an eigenvector of A: \n",
      " [[ 0.0740448  -0.15643631  0.16065779  0.38024711 -0.39615264  0.11568677]]\n",
      "Approximate eigenvalue is [1.74003062].\n",
      "Do you want to keep training the same model?[y/n]\n"
     ]
    },
    {
     "name": "stdin",
     "output_type": "stream",
     "text": [
      " Y\n"
     ]
    },
    {
     "name": "stdout",
     "output_type": "stream",
     "text": [
      "### FINDING EIGENVECTOR NR. 3 ###\n",
      "\n",
      "attempt number 16.\n",
      "\n",
      "\n",
      " Training model with SGD using 1 batches and 50000 epochs.\n"
     ]
    },
    {
     "name": "stderr",
     "output_type": "stream",
     "text": [
      "100%|████████████████████████████████████████████████████████████████████████████████████| 50000/50000 [01:36<00:00, 519.57it/s]\n",
      "/media/gianmarco/Users/HOME/Desktop/università/Machine Learning/FYS-STK4155-Project-3/notebooks/../Eigenvects.py:51: UserWarning: eigenvector ([[ 0.04145862 -0.06100023  0.11836357  0.24537311 -0.24912588  0.09568324]]) might not be an eigenvector of A.\n",
      "  warnings.warn(f\"eigenvector ({eigvec}) might not be an eigenvector of A.\")\n"
     ]
    },
    {
     "name": "stdout",
     "output_type": "stream",
     "text": [
      "losses were: initial 0.7461821934419623, last: 0.7455576234627195\n",
      "For a perfect eigenvector, the following should be all 1.000\n",
      "[[1.17401572]\n",
      " [0.44052361]\n",
      " [1.14540308]\n",
      " [1.10567577]\n",
      " [0.85323019]\n",
      " [1.27221369]]\n",
      "Found something not an eigenvector of A: \n",
      " [[ 0.04145862 -0.06100023  0.11836357  0.24537311 -0.24912588  0.09568324]]\n",
      "Approximate eigenvalue is [1.79232814].\n",
      "Do you want to keep training the same model?[y/n]\n"
     ]
    },
    {
     "name": "stdin",
     "output_type": "stream",
     "text": [
      " n\n"
     ]
    },
    {
     "name": "stdout",
     "output_type": "stream",
     "text": [
      "### FINDING EIGENVECTOR NR. 3 ###\n",
      "\n",
      "attempt number 17.\n",
      "\n",
      "\n",
      " Training model with SGD using 1 batches and 50000 epochs.\n"
     ]
    },
    {
     "name": "stderr",
     "output_type": "stream",
     "text": [
      "100%|████████████████████████████████████████████████████████████████████████████████████| 50000/50000 [01:29<00:00, 557.83it/s]\n"
     ]
    },
    {
     "name": "stdout",
     "output_type": "stream",
     "text": [
      "losses were: initial 111.44463053505775, last: 3.9960529912074603\n",
      "For a perfect eigenvector, the following should be all 1.000\n",
      "[[1.00145675]\n",
      " [0.99608866]\n",
      " [0.99580218]\n",
      " [1.00140968]\n",
      " [0.99944499]\n",
      " [1.00635632]]\n",
      "Duplicate [[-2.30655297]]\n",
      "### FINDING EIGENVECTOR NR. 3 ###\n",
      "\n",
      "attempt number 18.\n",
      "\n",
      "\n",
      " Training model with SGD using 1 batches and 50000 epochs.\n"
     ]
    },
    {
     "name": "stderr",
     "output_type": "stream",
     "text": [
      "100%|████████████████████████████████████████████████████████████████████████████████████| 50000/50000 [01:30<00:00, 551.51it/s]\n",
      "/media/gianmarco/Users/HOME/Desktop/università/Machine Learning/FYS-STK4155-Project-3/notebooks/../Eigenvects.py:51: UserWarning: eigenvector ([[ 0.02735027 -0.27907674 -0.12449388 -0.09616155 -0.01396835 -0.1604282 ]]) might not be an eigenvector of A.\n",
      "  warnings.warn(f\"eigenvector ({eigvec}) might not be an eigenvector of A.\")\n"
     ]
    },
    {
     "name": "stdout",
     "output_type": "stream",
     "text": [
      "losses were: initial 13.411394383806401, last: 0.6254648518452637\n",
      "For a perfect eigenvector, the following should be all 1.000\n",
      "[[ 3.81288162]\n",
      " [ 1.02053246]\n",
      " [ 0.76143319]\n",
      " [ 1.02478616]\n",
      " [-4.2588503 ]\n",
      " [ 1.03073666]]\n",
      "Found something not an eigenvector of A: \n",
      " [[ 0.02735027 -0.27907674 -0.12449388 -0.09616155 -0.01396835 -0.1604282 ]]\n",
      "Approximate eigenvalue is [2.04897901].\n",
      "Do you want to keep training the same model?[y/n]\n"
     ]
    },
    {
     "name": "stdin",
     "output_type": "stream",
     "text": [
      " n\n"
     ]
    },
    {
     "name": "stdout",
     "output_type": "stream",
     "text": [
      "### FINDING EIGENVECTOR NR. 3 ###\n",
      "\n",
      "attempt number 19.\n",
      "\n",
      "\n",
      " Training model with SGD using 1 batches and 50000 epochs.\n"
     ]
    },
    {
     "name": "stderr",
     "output_type": "stream",
     "text": [
      "100%|████████████████████████████████████████████████████████████████████████████████████| 50000/50000 [01:35<00:00, 525.99it/s]\n"
     ]
    },
    {
     "name": "stdout",
     "output_type": "stream",
     "text": [
      "losses were: initial 21.22991677843947, last: 0.6935591381347505\n",
      "For a perfect eigenvector, the following should be all 1.000\n",
      "[[0.97820338]\n",
      " [1.00848585]\n",
      " [0.9504198 ]\n",
      " [0.9846692 ]\n",
      " [1.00893315]\n",
      " [0.98275487]]\n",
      "Duplicate [[-2.30630423]]\n",
      "### FINDING EIGENVECTOR NR. 3 ###\n",
      "\n",
      "attempt number 20.\n",
      "\n",
      "\n",
      " Training model with SGD using 1 batches and 50000 epochs.\n"
     ]
    },
    {
     "name": "stderr",
     "output_type": "stream",
     "text": [
      "100%|████████████████████████████████████████████████████████████████████████████████████| 50000/50000 [01:38<00:00, 506.74it/s]\n"
     ]
    },
    {
     "name": "stdout",
     "output_type": "stream",
     "text": [
      "losses were: initial 12.321083943375847, last: 0.2878850029014472\n",
      "For a perfect eigenvector, the following should be all 1.000\n",
      "[[0.95964529]\n",
      " [1.04831295]\n",
      " [1.03718563]\n",
      " [0.99245278]\n",
      " [1.00402393]\n",
      " [0.94826376]]\n",
      "Duplicate [[-2.30554423]]\n",
      "### FINDING EIGENVECTOR NR. 3 ###\n",
      "\n",
      "attempt number 21.\n",
      "\n",
      "\n",
      " Training model with SGD using 1 batches and 50000 epochs.\n"
     ]
    },
    {
     "name": "stderr",
     "output_type": "stream",
     "text": [
      "100%|████████████████████████████████████████████████████████████████████████████████████| 50000/50000 [01:35<00:00, 524.37it/s]\n",
      "/media/gianmarco/Users/HOME/Desktop/università/Machine Learning/FYS-STK4155-Project-3/notebooks/../Eigenvects.py:51: UserWarning: eigenvector ([[-0.09051645  0.16885269 -0.05270716 -0.35887755 -0.57581818 -0.12709641]]) might not be an eigenvector of A.\n",
      "  warnings.warn(f\"eigenvector ({eigvec}) might not be an eigenvector of A.\")\n"
     ]
    },
    {
     "name": "stdout",
     "output_type": "stream",
     "text": [
      "losses were: initial 347.66081597498174, last: 8.991702401474816\n",
      "For a perfect eigenvector, the following should be all 1.000\n",
      "[[1.2071378 ]\n",
      " [1.02872297]\n",
      " [1.51988176]\n",
      " [1.05538725]\n",
      " [0.95673719]\n",
      " [1.20123798]]\n",
      "Found something not an eigenvector of A: \n",
      " [[-0.09051645  0.16885269 -0.05270716 -0.35887755 -0.57581818 -0.12709641]]\n",
      "Approximate eigenvalue is [-2.29741399].\n",
      "Do you want to keep training the same model?[y/n]\n"
     ]
    },
    {
     "name": "stdin",
     "output_type": "stream",
     "text": [
      " n\n"
     ]
    },
    {
     "name": "stdout",
     "output_type": "stream",
     "text": [
      "### FINDING EIGENVECTOR NR. 3 ###\n",
      "\n",
      "attempt number 22.\n",
      "\n",
      "\n",
      " Training model with SGD using 1 batches and 50000 epochs.\n"
     ]
    },
    {
     "name": "stderr",
     "output_type": "stream",
     "text": [
      "100%|████████████████████████████████████████████████████████████████████████████████████| 50000/50000 [01:42<00:00, 487.59it/s]\n"
     ]
    },
    {
     "name": "stdout",
     "output_type": "stream",
     "text": [
      "losses were: initial 15.025663684592852, last: 0.09287011008782327\n",
      "For a perfect eigenvector, the following should be all 1.000\n",
      "[[1.00046994]\n",
      " [1.01951111]\n",
      " [1.00647971]\n",
      " [0.9995525 ]\n",
      " [0.99826392]\n",
      " [0.99943855]]\n",
      "Duplicate [[-2.30652766]]\n",
      "### FINDING EIGENVECTOR NR. 3 ###\n",
      "\n",
      "attempt number 23.\n",
      "\n",
      "\n",
      " Training model with SGD using 1 batches and 50000 epochs.\n"
     ]
    },
    {
     "name": "stderr",
     "output_type": "stream",
     "text": [
      "100%|████████████████████████████████████████████████████████████████████████████████████| 50000/50000 [01:40<00:00, 499.32it/s]\n",
      "/media/gianmarco/Users/HOME/Desktop/università/Machine Learning/FYS-STK4155-Project-3/notebooks/../Eigenvects.py:51: UserWarning: eigenvector ([[ 0.0602281  -0.11117293 -0.03740011  0.24064199  0.33686177  0.11704696]]) might not be an eigenvector of A.\n",
      "  warnings.warn(f\"eigenvector ({eigvec}) might not be an eigenvector of A.\")\n"
     ]
    },
    {
     "name": "stdout",
     "output_type": "stream",
     "text": [
      "losses were: initial 1.7001130354142566, last: 0.012726402229412483\n",
      "For a perfect eigenvector, the following should be all 1.000\n",
      "[[1.04161147]\n",
      " [0.92767284]\n",
      " [0.01013056]\n",
      " [0.98525434]\n",
      " [1.02082701]\n",
      " [1.04511781]]\n",
      "Found something not an eigenvector of A: \n",
      " [[ 0.0602281  -0.11117293 -0.03740011  0.24064199  0.33686177  0.11704696]]\n",
      "Approximate eigenvalue is [-2.26721328].\n",
      "Do you want to keep training the same model?[y/n]\n"
     ]
    },
    {
     "name": "stdin",
     "output_type": "stream",
     "text": [
      " n\n"
     ]
    },
    {
     "name": "stdout",
     "output_type": "stream",
     "text": [
      "### FINDING EIGENVECTOR NR. 3 ###\n",
      "\n",
      "attempt number 24.\n",
      "\n",
      "\n",
      " Training model with SGD using 1 batches and 50000 epochs.\n"
     ]
    },
    {
     "name": "stderr",
     "output_type": "stream",
     "text": [
      "100%|████████████████████████████████████████████████████████████████████████████████████| 50000/50000 [01:37<00:00, 511.13it/s]\n",
      "/media/gianmarco/Users/HOME/Desktop/università/Machine Learning/FYS-STK4155-Project-3/notebooks/../Eigenvects.py:51: UserWarning: eigenvector ([[ 0.02580411  0.03797039  0.15164047  0.07748862  0.09760578 -0.02036438]]) might not be an eigenvector of A.\n",
      "  warnings.warn(f\"eigenvector ({eigvec}) might not be an eigenvector of A.\")\n"
     ]
    },
    {
     "name": "stdout",
     "output_type": "stream",
     "text": [
      "losses were: initial 3.6886225030527733, last: 0.24932292059953273\n",
      "For a perfect eigenvector, the following should be all 1.000\n",
      "[[ 2.58189427]\n",
      " [-3.65935399]\n",
      " [ 0.83823848]\n",
      " [ 0.48120161]\n",
      " [ 2.15221705]\n",
      " [ 4.67022842]]\n",
      "Found something not an eigenvector of A: \n",
      " [[ 0.02580411  0.03797039  0.15164047  0.07748862  0.09760578 -0.02036438]]\n",
      "Approximate eigenvalue is [-1.28152009].\n",
      "Do you want to keep training the same model?[y/n]\n"
     ]
    },
    {
     "name": "stdin",
     "output_type": "stream",
     "text": [
      " n\n"
     ]
    },
    {
     "name": "stdout",
     "output_type": "stream",
     "text": [
      "### FINDING EIGENVECTOR NR. 3 ###\n",
      "\n",
      "attempt number 25.\n",
      "\n",
      "\n",
      " Training model with SGD using 1 batches and 50000 epochs.\n"
     ]
    },
    {
     "name": "stderr",
     "output_type": "stream",
     "text": [
      "100%|████████████████████████████████████████████████████████████████████████████████████| 50000/50000 [01:39<00:00, 502.79it/s]\n"
     ]
    },
    {
     "name": "stdout",
     "output_type": "stream",
     "text": [
      "losses were: initial 5.212489229833136, last: 0.2076039392294994\n",
      "For a perfect eigenvector, the following should be all 1.000\n",
      "[[1.00168451]\n",
      " [1.00137569]\n",
      " [1.00075386]\n",
      " [0.99701766]\n",
      " [0.99191363]\n",
      " [1.00039273]]\n",
      "Duplicate [[2.20196398]]\n",
      "### FINDING EIGENVECTOR NR. 3 ###\n",
      "\n",
      "attempt number 26.\n",
      "\n",
      "\n",
      " Training model with SGD using 1 batches and 50000 epochs.\n"
     ]
    },
    {
     "name": "stderr",
     "output_type": "stream",
     "text": [
      "100%|████████████████████████████████████████████████████████████████████████████████████| 50000/50000 [01:37<00:00, 511.54it/s]\n"
     ]
    },
    {
     "name": "stdout",
     "output_type": "stream",
     "text": [
      "losses were: initial 435.75532364320924, last: 30.094088515549156\n",
      "For a perfect eigenvector, the following should be all 1.000\n",
      "[[1.00410882]\n",
      " [0.99989339]\n",
      " [0.99684301]\n",
      " [1.00005908]\n",
      " [1.00021486]\n",
      " [1.00116094]]\n",
      "Duplicate [[2.20200179]]\n",
      "### FINDING EIGENVECTOR NR. 3 ###\n",
      "\n",
      "attempt number 27.\n",
      "\n",
      "\n",
      " Training model with SGD using 1 batches and 50000 epochs.\n"
     ]
    },
    {
     "name": "stderr",
     "output_type": "stream",
     "text": [
      "100%|████████████████████████████████████████████████████████████████████████████████████| 50000/50000 [01:39<00:00, 501.52it/s]\n",
      "/media/gianmarco/Users/HOME/Desktop/università/Machine Learning/FYS-STK4155-Project-3/notebooks/../Eigenvects.py:51: UserWarning: eigenvector ([[-1.73221131 -1.60491145  0.90589005 -1.07918144 -0.02779649  1.721263  ]]) might not be an eigenvector of A.\n",
      "  warnings.warn(f\"eigenvector ({eigvec}) might not be an eigenvector of A.\")\n"
     ]
    },
    {
     "name": "stdout",
     "output_type": "stream",
     "text": [
      "losses were: initial 19.86516423599621, last: 0.14740944629706132\n",
      "For a perfect eigenvector, the following should be all 1.000\n",
      "[[0.98833501]\n",
      " [1.00318795]\n",
      " [1.00730288]\n",
      " [0.99882824]\n",
      " [0.51978374]\n",
      " [1.00760538]]\n",
      "Found something not an eigenvector of A: \n",
      " [[-1.73221131 -1.60491145  0.90589005 -1.07918144 -0.02779649  1.721263  ]]\n",
      "Approximate eigenvalue is [0.19045173].\n",
      "Do you want to keep training the same model?[y/n]\n"
     ]
    },
    {
     "name": "stdin",
     "output_type": "stream",
     "text": [
      " y\n"
     ]
    },
    {
     "name": "stdout",
     "output_type": "stream",
     "text": [
      "### FINDING EIGENVECTOR NR. 3 ###\n",
      "\n",
      "attempt number 27.\n",
      "\n",
      "\n",
      " Training model with SGD using 1 batches and 50000 epochs.\n"
     ]
    },
    {
     "name": "stderr",
     "output_type": "stream",
     "text": [
      "100%|████████████████████████████████████████████████████████████████████████████████████| 50000/50000 [01:43<00:00, 480.81it/s]\n",
      "/media/gianmarco/Users/HOME/Desktop/università/Machine Learning/FYS-STK4155-Project-3/notebooks/../Eigenvects.py:51: UserWarning: eigenvector ([[-1.74671554 -1.6202541   0.91583176 -1.0913192  -0.02681537  1.74052162]]) might not be an eigenvector of A.\n",
      "  warnings.warn(f\"eigenvector ({eigvec}) might not be an eigenvector of A.\")\n"
     ]
    },
    {
     "name": "stdout",
     "output_type": "stream",
     "text": [
      "losses were: initial 0.147409173571203, last: 0.14064340927206098\n",
      "For a perfect eigenvector, the following should be all 1.000\n",
      "[[0.99756857]\n",
      " [0.99759112]\n",
      " [1.00173274]\n",
      " [1.00121971]\n",
      " [0.80028158]\n",
      " [1.0036244 ]]\n",
      "Found something not an eigenvector of A: \n",
      " [[-1.74671554 -1.6202541   0.91583176 -1.0913192  -0.02681537  1.74052162]]\n",
      "Approximate eigenvalue is [0.19045421].\n",
      "Do you want to keep training the same model?[y/n]\n"
     ]
    },
    {
     "name": "stdin",
     "output_type": "stream",
     "text": [
      " y\n"
     ]
    },
    {
     "name": "stdout",
     "output_type": "stream",
     "text": [
      "### FINDING EIGENVECTOR NR. 3 ###\n",
      "\n",
      "attempt number 27.\n",
      "\n",
      "\n",
      " Training model with SGD using 1 batches and 50000 epochs.\n"
     ]
    },
    {
     "name": "stderr",
     "output_type": "stream",
     "text": [
      "100%|████████████████████████████████████████████████████████████████████████████████████| 50000/50000 [01:35<00:00, 524.87it/s]\n",
      "/media/gianmarco/Users/HOME/Desktop/università/Machine Learning/FYS-STK4155-Project-3/notebooks/../Eigenvects.py:51: UserWarning: eigenvector ([[-1.75211019 -1.62332519  0.91726686 -1.09279972 -0.02793507  1.74380672]]) might not be an eigenvector of A.\n",
      "  warnings.warn(f\"eigenvector ({eigvec}) might not be an eigenvector of A.\")\n"
     ]
    },
    {
     "name": "stdout",
     "output_type": "stream",
     "text": [
      "losses were: initial 0.14064333457907993, last: 0.1388877166375603\n",
      "For a perfect eigenvector, the following should be all 1.000\n",
      "[[0.99373031]\n",
      " [0.99681717]\n",
      " [1.01218557]\n",
      " [0.99508741]\n",
      " [0.5675254 ]\n",
      " [1.00775638]]\n",
      "Found something not an eigenvector of A: \n",
      " [[-1.75211019 -1.62332519  0.91726686 -1.09279972 -0.02793507  1.74380672]]\n",
      "Approximate eigenvalue is [0.19045328].\n",
      "Do you want to keep training the same model?[y/n]\n"
     ]
    },
    {
     "name": "stdin",
     "output_type": "stream",
     "text": [
      " Y\n"
     ]
    },
    {
     "name": "stdout",
     "output_type": "stream",
     "text": [
      "### FINDING EIGENVECTOR NR. 3 ###\n",
      "\n",
      "attempt number 27.\n",
      "\n",
      "\n",
      " Training model with SGD using 1 batches and 50000 epochs.\n"
     ]
    },
    {
     "name": "stderr",
     "output_type": "stream",
     "text": [
      "100%|████████████████████████████████████████████████████████████████████████████████████| 50000/50000 [01:43<00:00, 483.43it/s]\n",
      "/media/gianmarco/Users/HOME/Desktop/università/Machine Learning/FYS-STK4155-Project-3/notebooks/../Eigenvects.py:51: UserWarning: eigenvector ([[-1.73540145 -1.60983479  0.91025722 -1.08125235 -0.02680134  1.72939474]]) might not be an eigenvector of A.\n",
      "  warnings.warn(f\"eigenvector ({eigvec}) might not be an eigenvector of A.\")\n"
     ]
    },
    {
     "name": "stdout",
     "output_type": "stream",
     "text": [
      "losses were: initial 0.13888769874951323, last: 0.13886147952350844\n",
      "For a perfect eigenvector, the following should be all 1.000\n",
      "[[0.99677122]\n",
      " [0.99326932]\n",
      " [1.00989662]\n",
      " [0.99978781]\n",
      " [1.76823093]\n",
      " [1.00624016]]\n",
      "Found something not an eigenvector of A: \n",
      " [[-1.73540145 -1.60983479  0.91025722 -1.08125235 -0.02680134  1.72939474]]\n",
      "Approximate eigenvalue is [0.19045428].\n",
      "Do you want to keep training the same model?[y/n]\n"
     ]
    },
    {
     "name": "stdin",
     "output_type": "stream",
     "text": [
      " y\n"
     ]
    },
    {
     "name": "stdout",
     "output_type": "stream",
     "text": [
      "### FINDING EIGENVECTOR NR. 3 ###\n",
      "\n",
      "attempt number 27.\n",
      "\n",
      "\n",
      " Training model with SGD using 1 batches and 50000 epochs.\n"
     ]
    },
    {
     "name": "stderr",
     "output_type": "stream",
     "text": [
      "100%|████████████████████████████████████████████████████████████████████████████████████| 50000/50000 [01:43<00:00, 484.60it/s]\n"
     ]
    },
    {
     "name": "stdout",
     "output_type": "stream",
     "text": [
      "losses were: initial 0.13870503467814604, last: 0.13774071819896505\n",
      "For a perfect eigenvector, the following should be all 1.000\n",
      "[[0.99976385]\n",
      " [1.00166183]\n",
      " [0.99668671]\n",
      " [1.00293972]\n",
      " [0.9515332 ]\n",
      " [0.99856834]]\n",
      "Found new eigenvector: \n",
      " [[-1.75248532 -1.62802468  0.91990039 -1.0967914  -0.02666975  1.74860544]] \n",
      " eigenvalue [[0.19045446]]\n",
      "### FINDING EIGENVECTOR NR. 4 ###\n",
      "\n",
      "attempt number 28.\n",
      "\n",
      "\n",
      " Training model with SGD using 1 batches and 50000 epochs.\n"
     ]
    },
    {
     "name": "stderr",
     "output_type": "stream",
     "text": [
      "100%|████████████████████████████████████████████████████████████████████████████████████| 50000/50000 [01:41<00:00, 493.62it/s]\n",
      "/media/gianmarco/Users/HOME/Desktop/università/Machine Learning/FYS-STK4155-Project-3/notebooks/../Eigenvects.py:51: UserWarning: eigenvector ([[-0.87954241 -0.04161613 -0.21063218  0.48969328 -0.00161565 -0.54219627]]) might not be an eigenvector of A.\n",
      "  warnings.warn(f\"eigenvector ({eigvec}) might not be an eigenvector of A.\")\n"
     ]
    },
    {
     "name": "stdout",
     "output_type": "stream",
     "text": [
      "losses were: initial 27.981863204036877, last: 0.735594739240758\n",
      "For a perfect eigenvector, the following should be all 1.000\n",
      "[[ 1.01617567]\n",
      " [ 1.76850138]\n",
      " [ 1.22110173]\n",
      " [ 0.9249368 ]\n",
      " [31.95598797]\n",
      " [ 0.98049352]]\n",
      "Found something not an eigenvector of A: \n",
      " [[-0.87954241 -0.04161613 -0.21063218  0.48969328 -0.00161565 -0.54219627]]\n",
      "Approximate eigenvalue is [-0.54001035].\n",
      "Do you want to keep training the same model?[y/n]\n"
     ]
    },
    {
     "name": "stdin",
     "output_type": "stream",
     "text": [
      " n\n"
     ]
    },
    {
     "name": "stdout",
     "output_type": "stream",
     "text": [
      "### FINDING EIGENVECTOR NR. 4 ###\n",
      "\n",
      "attempt number 29.\n",
      "\n",
      "\n",
      " Training model with SGD using 1 batches and 50000 epochs.\n"
     ]
    },
    {
     "name": "stderr",
     "output_type": "stream",
     "text": [
      "100%|████████████████████████████████████████████████████████████████████████████████████| 50000/50000 [01:39<00:00, 503.33it/s]\n",
      "/media/gianmarco/Users/HOME/Desktop/università/Machine Learning/FYS-STK4155-Project-3/notebooks/../Eigenvects.py:51: UserWarning: eigenvector ([[ 0.01626962  0.0736695  -0.08728352  0.12985839 -0.05026668 -0.12629885]]) might not be an eigenvector of A.\n",
      "  warnings.warn(f\"eigenvector ({eigvec}) might not be an eigenvector of A.\")\n"
     ]
    },
    {
     "name": "stdout",
     "output_type": "stream",
     "text": [
      "losses were: initial 1.4963002139781398, last: 0.040171036581857965\n",
      "For a perfect eigenvector, the following should be all 1.000\n",
      "[[474.05731657]\n",
      " [-13.67640628]\n",
      " [-76.60876525]\n",
      " [ 42.02564465]\n",
      " [  6.78065682]\n",
      " [ -9.07693236]]\n",
      "Found something not an eigenvector of A: \n",
      " [[ 0.01626962  0.0736695  -0.08728352  0.12985839 -0.05026668 -0.12629885]]\n",
      "Approximate eigenvalue is [0.01160303].\n",
      "Do you want to keep training the same model?[y/n]\n"
     ]
    },
    {
     "name": "stdin",
     "output_type": "stream",
     "text": [
      " n\n"
     ]
    },
    {
     "name": "stdout",
     "output_type": "stream",
     "text": [
      "### FINDING EIGENVECTOR NR. 4 ###\n",
      "\n",
      "attempt number 30.\n",
      "\n",
      "\n",
      " Training model with SGD using 1 batches and 50000 epochs.\n"
     ]
    },
    {
     "name": "stderr",
     "output_type": "stream",
     "text": [
      "100%|████████████████████████████████████████████████████████████████████████████████████| 50000/50000 [01:41<00:00, 490.22it/s]\n",
      "/media/gianmarco/Users/HOME/Desktop/università/Machine Learning/FYS-STK4155-Project-3/notebooks/../Eigenvects.py:51: UserWarning: eigenvector ([[-0.16737466 -0.27860489  0.17823839 -0.23363263  0.03209312  0.32474037]]) might not be an eigenvector of A.\n",
      "  warnings.warn(f\"eigenvector ({eigvec}) might not be an eigenvector of A.\")\n"
     ]
    },
    {
     "name": "stdout",
     "output_type": "stream",
     "text": [
      "losses were: initial 7.625017467762967, last: 0.29449150983063227\n",
      "For a perfect eigenvector, the following should be all 1.000\n",
      "[[  4.74966446]\n",
      " [  1.91466882]\n",
      " [ -1.81211468]\n",
      " [  2.15379518]\n",
      " [-10.0566863 ]\n",
      " [ -0.31139106]]\n",
      "Found something not an eigenvector of A: \n",
      " [[-0.16737466 -0.27860489  0.17823839 -0.23363263  0.03209312  0.32474037]]\n",
      "Approximate eigenvalue is [0.14065638].\n",
      "Do you want to keep training the same model?[y/n]\n"
     ]
    },
    {
     "name": "stdin",
     "output_type": "stream",
     "text": [
      " Y\n"
     ]
    }
   ],
   "source": [
    "eigenvectors, eigenvalues, solvers = ev.Search_Until_Find(A, Nattempts=30)"
   ]
  },
  {
   "cell_type": "code",
   "execution_count": null,
   "id": "3acc6c92-9362-4eb6-895f-d52386588238",
   "metadata": {},
   "outputs": [],
   "source": [
    "## FIRST OF ALL SAVE THE MODELS FOUND\n",
    "import os\n",
    "cwd = os.getcwd()\n",
    "for ii in range(len(solvers)):\n",
    "    solvers[ii].model.save(cwd+f\"/model_{ii}\")\n",
    "    nptosave = solvers[ii].x0.numpy()\n",
    "    np.save(cwd+f\"/initial_condition_{ii}.npy\", nptosave)"
   ]
  },
  {
   "cell_type": "code",
   "execution_count": 21,
   "id": "cf147eae-373e-4a62-8802-d4e439d31edc",
   "metadata": {},
   "outputs": [],
   "source": [
    "true_eigvals, true_eigvecs = np.linalg.eigh(A.numpy())\n",
    "\n",
    "eigvalsNN = []\n",
    "eigvecsNN = []\n",
    "for solver in solvers:\n",
    "    eigval, eigvec = solver.compute_eig()\n",
    "    eigvalsNN.append(eigval.numpy()[0,0])\n",
    "    eigvecsNN.append(eigvec.numpy()[0])"
   ]
  },
  {
   "cell_type": "code",
   "execution_count": 24,
   "id": "6811c4e6-fd87-4129-b9fc-f72215dc7191",
   "metadata": {},
   "outputs": [],
   "source": [
    "#right indices to choose the eigenvectors we found from the result of numpy.linalg.eigh\n",
    "indices = np.array([0,5,2,3])"
   ]
  },
  {
   "cell_type": "code",
   "execution_count": 26,
   "id": "a2852ba9-eb24-4320-8cfd-9a0581af1ee9",
   "metadata": {},
   "outputs": [],
   "source": [
    "true_eigvals_cmp = true_eigvals[indices]\n",
    "true_eigvecs_cmp = true_eigvecs[:,indices]"
   ]
  },
  {
   "cell_type": "code",
   "execution_count": 29,
   "id": "09a17c4b-273f-4f8e-b4c0-29c0e4f1c544",
   "metadata": {},
   "outputs": [],
   "source": [
    "#save found eigenvectors and eigenvalues\n",
    "np.save(\"eigenvaluesNN.npy\", np.array(eigvalsNN))\n",
    "for ii in range(4):\n",
    "    np.save(f\"eigenvecNN_{ii}.npy\", np.array(eigvecsNN[ii]))"
   ]
  },
  {
   "cell_type": "code",
   "execution_count": 32,
   "id": "789f7ab7-1be2-4ea7-93c1-e282554c0564",
   "metadata": {},
   "outputs": [
    {
     "name": "stdout",
     "output_type": "stream",
     "text": [
      "-2.307 & -2.307 & 1.274e-05 & 1.904e-05 \\\\\n",
      "2.202 & 2.202 & 5.757e-07 & 9.693e-07 \\\\\n",
      "-0.540 & -0.540 & 3.231e-06 & 2.274e-06 \\\\\n",
      "0.190 & 0.190 & 2.901e-07 & 3.070e-08 \\\\\n"
     ]
    }
   ],
   "source": [
    "#print nice comparison in latex\n",
    "def parallel_check(v,w):\n",
    "    '''should return 1 if v and w are parallel'''\n",
    "    num = np.dot(v,w)**2\n",
    "    den = np.dot(v,v)*np.dot(w,w)\n",
    "    \n",
    "    return num/den\n",
    "\n",
    "\n",
    "for ii in range(4):\n",
    "    truelam = true_eigvals_cmp[ii]\n",
    "    NNlam = eigvalsNN[ii]\n",
    "    true_eig = true_eigvecs_cmp[:,ii]\n",
    "    print(f\"{truelam:.3f}\", f\"{NNlam:.3f}\", f\"{np.abs( (truelam-NNlam)/truelam ):.3e}\", \n",
    "          f\"{1-parallel_check(eigvecsNN[ii], true_eig):.3e}\", sep=\" & \", end=\" \\\\\\\\\\n\")\n"
   ]
  },
  {
   "cell_type": "code",
   "execution_count": null,
   "id": "6251edcb-bd73-4053-8ee8-00c67e61ae48",
   "metadata": {},
   "outputs": [],
   "source": []
  }
 ],
 "metadata": {
  "kernelspec": {
   "display_name": "Python 3 (ipykernel)",
   "language": "python",
   "name": "python3"
  },
  "language_info": {
   "codemirror_mode": {
    "name": "ipython",
    "version": 3
   },
   "file_extension": ".py",
   "mimetype": "text/x-python",
   "name": "python",
   "nbconvert_exporter": "python",
   "pygments_lexer": "ipython3",
   "version": "3.10.8"
  }
 },
 "nbformat": 4,
 "nbformat_minor": 5
}
