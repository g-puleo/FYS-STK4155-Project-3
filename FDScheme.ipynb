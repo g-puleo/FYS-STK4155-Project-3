{
 "cells": [
  {
   "cell_type": "code",
   "execution_count": 1,
   "id": "502c3083",
   "metadata": {},
   "outputs": [],
   "source": [
    "import FDSolver\n",
    "import numpy as np\n",
    "import matplotlib.pyplot as plt\n",
    "import plotter"
   ]
  },
  {
   "cell_type": "code",
   "execution_count": 2,
   "id": "ab86cb8b",
   "metadata": {},
   "outputs": [],
   "source": [
    "#Initializing FDSolvers\n",
    "\n",
    "x10 = np.linspace(0, 1, 10)\n",
    "initial_condition = np.sin(np.pi*x10)\n",
    "\n",
    "dx = x10[-1]/len(x10)\n",
    "dt = 0.2*(1/100)**2\n",
    "\n",
    "dx10 = np.zeros((int(1/dt), len(x10))) \n",
    "dx10[0, :] = initial_condition\n",
    "\n",
    "Solver_dx10 = FDSolver.FDSolver(initial_condition, dx, dt)\n",
    "\n",
    "x100 = np.linspace(0, 1, 100)\n",
    "initial_condition = np.sin(np.pi*x100)\n",
    "\n",
    "dx = x100[-1]/len(x100)\n",
    "dt = 0.2*(1/100)**2\n",
    "\n",
    "dx100 = np.zeros((int(1/dt), len(x100)))\n",
    "dx100[0, :] = initial_condition\n",
    "\n",
    "Solver_dx100 = FDSolver.FDSolver(initial_condition, dx, dt)"
   ]
  },
  {
   "cell_type": "code",
   "execution_count": 3,
   "id": "26f1520f",
   "metadata": {},
   "outputs": [],
   "source": [
    "for i in range(len(dx10)-1):\n",
    "    Solver_dx10.evolve_fd()\n",
    "    Solver_dx100.evolve_fd()\n",
    "    \n",
    "    dx10[i+1, :] = Solver_dx10.u\n",
    "    dx100[i+1, :] = Solver_dx100.u\n",
    "  "
   ]
  },
  {
   "cell_type": "code",
   "execution_count": 4,
   "id": "e92373ae",
   "metadata": {},
   "outputs": [],
   "source": [
    "t = np.linspace(0, 1, int(1/dt))\n",
    "t1_index = int(len(t)*0.1)\n",
    "t2_index = int(len(t)*0.3)"
   ]
  },
  {
   "cell_type": "code",
   "execution_count": 5,
   "id": "bbb0332f",
   "metadata": {},
   "outputs": [
    {
     "ename": "AttributeError",
     "evalue": "'Figure' object has no attribute 'set_layout_engine'",
     "output_type": "error",
     "traceback": [
      "\u001b[1;31m---------------------------------------------------------------------------\u001b[0m",
      "\u001b[1;31mAttributeError\u001b[0m                            Traceback (most recent call last)",
      "Input \u001b[1;32mIn [5]\u001b[0m, in \u001b[0;36m<cell line: 1>\u001b[1;34m()\u001b[0m\n\u001b[1;32m----> 1\u001b[0m fig1 \u001b[38;5;241m=\u001b[39m \u001b[43mplotter\u001b[49m\u001b[38;5;241;43m.\u001b[39;49m\u001b[43mplot_fd_solutions\u001b[49m\u001b[43m(\u001b[49m\u001b[43mdx10\u001b[49m\u001b[43m,\u001b[49m\u001b[43m \u001b[49m\u001b[43mx10\u001b[49m\u001b[43m,\u001b[49m\u001b[43m \u001b[49m\u001b[43mt\u001b[49m\u001b[43m,\u001b[49m\u001b[43m \u001b[49m\u001b[43mt1_index\u001b[49m\u001b[43m,\u001b[49m\u001b[43m \u001b[49m\u001b[43mt2_index\u001b[49m\u001b[43m)\u001b[49m\n\u001b[0;32m      2\u001b[0m fig2 \u001b[38;5;241m=\u001b[39m plotter\u001b[38;5;241m.\u001b[39mplot_fd_solutions(dx100, x100, t, t1_index, t2_index)\n\u001b[0;32m      4\u001b[0m fig1\u001b[38;5;241m.\u001b[39msavefig(\u001b[38;5;124m'\u001b[39m\u001b[38;5;124mPlots/dx10.pdf\u001b[39m\u001b[38;5;124m'\u001b[39m)\n",
      "File \u001b[1;32m~\\Desktop\\Atom\\FYS-STK\\Project\\FYS-STK4155-Project-3\\plotter.py:65\u001b[0m, in \u001b[0;36mplot_fd_solutions\u001b[1;34m(u, x, t, t1_index, t2_index)\u001b[0m\n\u001b[0;32m     62\u001b[0m t2 \u001b[38;5;241m=\u001b[39m \u001b[38;5;124mf\u001b[39m\u001b[38;5;124m'\u001b[39m\u001b[38;5;124mt= \u001b[39m\u001b[38;5;132;01m{\u001b[39;00mt[t2_index]\u001b[38;5;132;01m:\u001b[39;00m\u001b[38;5;124m.2f\u001b[39m\u001b[38;5;132;01m}\u001b[39;00m\u001b[38;5;124m'\u001b[39m\n\u001b[0;32m     64\u001b[0m fig, (true_v_fd, error_plot) \u001b[38;5;241m=\u001b[39m plt\u001b[38;5;241m.\u001b[39msubplots(\u001b[38;5;241m1\u001b[39m, \u001b[38;5;241m2\u001b[39m, figsize\u001b[38;5;241m=\u001b[39m(figsize[\u001b[38;5;241m0\u001b[39m]\u001b[38;5;241m*\u001b[39m\u001b[38;5;241m2.5\u001b[39m, figsize[\u001b[38;5;241m1\u001b[39m]))\n\u001b[1;32m---> 65\u001b[0m \u001b[43mfig\u001b[49m\u001b[38;5;241;43m.\u001b[39;49m\u001b[43mset_layout_engine\u001b[49m(layout\u001b[38;5;241m=\u001b[39m\u001b[38;5;124m'\u001b[39m\u001b[38;5;124mtight\u001b[39m\u001b[38;5;124m'\u001b[39m)\n\u001b[0;32m     67\u001b[0m true_v_fd\u001b[38;5;241m.\u001b[39mgrid()\n\u001b[0;32m     68\u001b[0m error_plot\u001b[38;5;241m.\u001b[39mgrid()\n",
      "\u001b[1;31mAttributeError\u001b[0m: 'Figure' object has no attribute 'set_layout_engine'"
     ]
    },
    {
     "data": {
      "image/png": "[encoded data removed]",
      "text/plain": [
       "<Figure size 828.25x300 with 2 Axes>"
      ]
     },
     "metadata": {},
     "output_type": "display_data"
    }
   ],
   "source": [
    "\n",
    "fig1 = plotter.plot_fd_solutions(dx10, x10, t, t1_index, t2_index)\n",
    "fig2 = plotter.plot_fd_solutions(dx100, x100, t, t1_index, t2_index)\n",
    "\n",
    "fig1.savefig('Plots/dx10.pdf')\n",
    "fig2.savefig('Plots/dx100.pdf')\n",
    "\n",
    "plt.show()"
   ]
  },
  {
   "cell_type": "code",
   "execution_count": null,
   "id": "ee9c3ce9",
   "metadata": {},
   "outputs": [],
   "source": []
  }
 ],
 "metadata": {
  "kernelspec": {
   "display_name": "Python 3 (ipykernel)",
   "language": "python",
   "name": "python3"
  },
  "language_info": {
   "codemirror_mode": {
    "name": "ipython",
    "version": 3
   },
   "file_extension": ".py",
   "mimetype": "text/x-python",
   "name": "python",
   "nbconvert_exporter": "python",
   "pygments_lexer": "ipython3",
   "version": "3.10.6"
  }
 },
 "nbformat": 4,
 "nbformat_minor": 5
}
