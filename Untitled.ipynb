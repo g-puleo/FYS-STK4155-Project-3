{
 "cells": [
  {
   "cell_type": "code",
   "execution_count": 1,
   "id": "992b5f06",
   "metadata": {},
   "outputs": [],
   "source": [
    "import eigenSolverNN as esnn\n",
    "import numpy as np\n",
    "import tensorflow as tf\n",
    "import warnings\n",
    "import Eigenvects as ev"
   ]
  },
  {
   "cell_type": "markdown",
   "id": "4161bbf7",
   "metadata": {},
   "source": [
    "Try the algorythm with orthagonal initial condiotion"
   ]
  },
  {
   "cell_type": "code",
   "execution_count": 2,
   "id": "5f418cb6",
   "metadata": {},
   "outputs": [],
   "source": [
    "A = np.load('A.npy')\n",
    "A = tf.convert_to_tensor(A)"
   ]
  },
  {
   "cell_type": "code",
   "execution_count": null,
   "id": "b4c8f073",
   "metadata": {},
   "outputs": [],
   "source": [
    "eigenvectors, eigenvalues = ev.findEigenvectors(A)\n",
    "print(eigenvalues)\n",
    "#prints the true eigenvalues\n",
    "A = A.numpy()\n",
    "[E, V] = np.linalg.eigh(A)\n",
    "print(E)"
   ]
  },
  {
   "cell_type": "raw",
   "id": "4792851e",
   "metadata": {},
   "source": [
    "Ouput from run from terminal with above conditions\n",
    "\n",
    "### FINDING EIGENVECTOR NR.0 ###\n",
    "\n",
    "------ Current settings of model: ------\n",
    "\n",
    "Model:\n",
    "<keras.engine.sequential.Sequential object at 0x000001B8776CB250>\n",
    "Layers:\n",
    "[<keras.layers.core.dense.Dense object at 0x000001B8776CB610>, <keras.layers.core.dense.Dense object at 0x000001B8776CB4C0>]\n",
    "Number of neurons in hidden layer: 100\n",
    "Optimizer: Adam\n",
    "Learning rate: <tf.Variable 'learning_rate:0' shape=() dtype=float32, numpy=0.001>\n",
    "Time grid has shape (100, 1) and goes from [0.] to [1.]\n",
    "Starting from initial condition: [ 0.72939392  1.57302321 -0.80759332  1.7290057  -0.14581874  0.25922037]\n",
    "\n",
    "\n",
    " Training model with SGD using 4 batches and 50000 epochs.\n",
    "100%|███████████████████████████████████████| 50000/50000 [07:35<00:00, 109.75it/s]\n",
    "losses were: initial 0.3046872556900943, last: 0.3046872556900943\n",
    "[[0.99534305]\n",
    " [1.00385951]\n",
    " [0.98083247]\n",
    " [0.99620993]\n",
    " [1.00244767]\n",
    " [0.99056435]]\n",
    "### FINDING EIGENVECTOR NR.1 ###\n",
    "\n",
    "------ Current settings of model: ------\n",
    "\n",
    "Model:\n",
    "<keras.engine.sequential.Sequential object at 0x000001B87779A830>\n",
    "Layers:\n",
    "[<keras.layers.core.dense.Dense object at 0x000001B84CBEFB20>, <keras.layers.core.dense.Dense object at 0x000001B87EB0E0B0>]\n",
    "Number of neurons in hidden layer: 100\n",
    "Optimizer: Adam\n",
    "Learning rate: <tf.Variable 'learning_rate:0' shape=() dtype=float32, numpy=0.001>\n",
    "Time grid has shape (100, 1) and goes from [0.] to [1.]\n",
    "Starting from initial condition: [-0.12546543 -0.44377255 -0.18074347 -0.74798336  0.42581827 -0.11771084]\n",
    "\n",
    "\n",
    " Training model with SGD using 4 batches and 50000 epochs.\n",
    "100%|███████████████████████████████████████| 50000/50000 [07:49<00:00, 106.45it/s]\n",
    "losses were: initial 0.004923304873891549, last: 0.004923304873891549\n",
    "[[0.97377541]\n",
    " [1.03448067]\n",
    " [0.98580999]\n",
    " [0.98605119]\n",
    " [1.00573013]\n",
    " [0.97635663]]\n",
    "### FINDING EIGENVECTOR NR.2 ###\n",
    "\n",
    "------ Current settings of model: ------\n",
    "\n",
    "Model:\n",
    "<keras.engine.sequential.Sequential object at 0x000001B87DA6FD30>\n",
    "Layers:\n",
    "[<keras.layers.core.dense.Dense object at 0x000001B87797C6D0>, <keras.layers.core.dense.Dense object at 0x000001B87DA6FA30>]\n",
    "Number of neurons in hidden layer: 100\n",
    "Optimizer: Adam\n",
    "Learning rate: <tf.Variable 'learning_rate:0' shape=() dtype=float32, numpy=0.001>\n",
    "Time grid has shape (100, 1) and goes from [0.] to [1.]\n",
    "Starting from initial condition: [-0.18339302  0.12515308  0.72011814 -0.2260293  -0.04369643  0.61573935]\n",
    "\n",
    "\n",
    " Training model with SGD using 4 batches and 50000 epochs.\n",
    "100%|███████████████████████████████████████| 50000/50000 [07:42<00:00, 108.18it/s]\n",
    "losses were: initial 0.0004074855508858718, last: 0.0004074855508858718\n",
    "[[ 0.96456415]\n",
    " [ 0.99425542]\n",
    " [ 1.06509429]\n",
    " [ 0.9766737 ]\n",
    " [-0.99065164]\n",
    " [ 1.03344342]]\n",
    "C:\\Users\\breit\\Desktop\\atom\\FYS-STK\\Project\\FYS-STK4155-Project-3\\Eigenvects.py:49: UserWarning: eigenvector ([[ 0.95358613  0.87568952 -0.4931368   0.58755669  0.01777183 -0.93886836]]) might not be an eigenvector of A.\n",
    "  warnings.warn(f\"eigenvector ({eigvec}) might not be an eigenvector of A.\")\n",
    "### FINDING EIGENVECTOR NR.3 ###\n",
    "\n",
    "------ Current settings of model: ------\n",
    "\n",
    "Model:\n",
    "<keras.engine.sequential.Sequential object at 0x000001B84C7DBC70>\n",
    "Layers:\n",
    "[<keras.layers.core.dense.Dense object at 0x000001B87EB79000>, <keras.layers.core.dense.Dense object at 0x000001B8779D4280>]\n",
    "Number of neurons in hidden layer: 100\n",
    "Optimizer: Adam\n",
    "Learning rate: <tf.Variable 'learning_rate:0' shape=() dtype=float32, numpy=0.001>\n",
    "Time grid has shape (100, 1) and goes from [0.] to [1.]\n",
    "Starting from initial condition: [ 0.43643628  0.41460739  0.62730154 -0.04720304 -0.15089778  0.46810105]\n",
    "\n",
    "\n",
    " Training model with SGD using 4 batches and 50000 epochs.\n",
    "100%|███████████████████████████████████████| 50000/50000 [07:30<00:00, 111.06it/s]\n",
    "losses were: initial 0.0011403110875494978, last: 0.0011403110875494978\n",
    "[[1.02955541]\n",
    " [0.99985941]\n",
    " [0.99605543]\n",
    " [1.00110753]\n",
    " [1.01050603]\n",
    " [0.99538405]]\n",
    "### FINDING EIGENVECTOR NR.4 ###\n",
    "\n",
    "------ Current settings of model: ------\n",
    "\n",
    "Model:\n",
    "<keras.engine.sequential.Sequential object at 0x000001B87DA7ECB0>\n",
    "Layers:\n",
    "[<keras.layers.core.dense.Dense object at 0x000001B87DA6FAC0>, <keras.layers.core.dense.Dense object at 0x000001B87EB63610>]\n",
    "Optimizer: Adam\n",
    "Learning rate: <tf.Variable 'learning_rate:0' shape=() dtype=float32, numpy=0.001>\n",
    "Time grid has shape (100, 1) and goes from [0.] to [1.]\n",
    "Starting from initial condition: [ 0.00157149 -0.37017183 -0.54736344  0.53555152 -0.4509976   0.27046136]\n",
    "\n",
    "\n",
    " Training model with SGD using 4 batches and 50000 epochs.\n",
    "100%|████████████████████████████████████████████| 50000/50000 [07:29<00:00, 111.14it/s]\n",
    "losses were: initial 3.8944502516172186e-05, last: 3.8944502516172186e-05\n",
    "[[1.09454123]\n",
    " [0.98300369]\n",
    " [0.81518183]\n",
    " [1.11045841]\n",
    " [1.23885785]\n",
    " [1.07357763]]\n",
    "C:\\Users\\breit\\Desktop\\atom\\FYS-STK\\Project\\FYS-STK4155-Project-3\\Eigenvects.py:49: UserWarning: eigenvector ([[ 0.07328972 -0.25626918 -0.13509576 -0.11801587  0.04273363 -0.1651526 ]]) might not be an eigenvector of A.\n",
    "  warnings.warn(f\"eigenvector ({eigvec}) might not be an eigenvector of A.\")\n",
    "### FINDING EIGENVECTOR NR.5 ###\n",
    "\n",
    "------ Current settings of model: ------\n",
    "\n",
    "Model:\n",
    "<keras.engine.sequential.Sequential object at 0x000001B8776CB8E0>\n",
    "Layers:\n",
    "[<keras.layers.core.dense.Dense object at 0x000001B87EB37910>, <keras.layers.core.dense.Dense object at 0x000001B801FB6110>]\n",
    "Number of neurons in hidden layer: 100\n",
    "Optimizer: Adam\n",
    "Learning rate: <tf.Variable 'learning_rate:0' shape=() dtype=float32, numpy=0.001>\n",
    "Time grid has shape (100, 1) and goes from [0.] to [1.]\n",
    "Starting from initial condition: [ 0.05598096  0.13168023 -0.81246566 -0.08023737  0.05516988  0.55672636]\n",
    "\n",
    "\n",
    " Training model with SGD using 4 batches and 50000 epochs.\n",
    "100%|████████████████████████████████████████████| 50000/50000 [07:53<00:00, 105.68it/s]\n",
    "losses were: initial 1.6521570149216898e-05, last: 1.6521570149216898e-05\n",
    "[[  -1.23646943]\n",
    " [  -2.76785825]\n",
    " [-120.25844071]\n",
    " [   3.2013458 ]\n",
    " [   3.16563354]\n",
    " [   0.16997713]]\n",
    "C:\\Users\\breit\\Desktop\\atom\\FYS-STK\\Project\\FYS-STK4155-Project-3\\Eigenvects.py:49: UserWarning: eigenvector ([[-0.01739225  0.01617114  0.00181197 -0.04691476  0.0506154  -0.1001995 ]]) might not be an eigenvector of A.\n",
    "  warnings.warn(f\"eigenvector ({eigvec}) might not be an eigenvector of A.\")\n",
    "[-2.30653848 -2.30627952  0.19041998  2.20193631  2.18507504  0.65440824]\n",
    "[-2.30656508 -1.54248674 -0.53955334  0.19045441  1.68567193  2.20200564]"
   ]
  },
  {
   "cell_type": "markdown",
   "id": "8d4b5ec1",
   "metadata": {},
   "source": [
    "Finds some points that aren't eigenvectors of A but still has low cost. Try to force search until it finds all eigenvalues instead."
   ]
  },
  {
   "cell_type": "code",
   "execution_count": null,
   "id": "0e2681b3",
   "metadata": {},
   "outputs": [
    {
     "name": "stdout",
     "output_type": "stream",
     "text": [
      "### FINDING EIGENVECTOR NR.0 ###\n",
      "\n",
      "------ Current settings of model: ------\n",
      "\n",
      "Model:\n",
      "<keras.engine.sequential.Sequential object at 0x000002C94535B400>\n",
      "Layers:\n",
      "[<keras.layers.core.dense.Dense object at 0x000002C94535B640>, <keras.layers.core.dense.Dense object at 0x000002C94535B460>]\n",
      "Number of neurons in hidden layer: 100\n",
      "Optimizer: Adam\n",
      "Learning rate: <tf.Variable 'learning_rate:0' shape=() dtype=float32, numpy=0.001>\n",
      "Time grid has shape (100, 1) and goes from [0.] to [1.]\n",
      "Starting from initial condition: [ 0.66952812  1.15540851  0.95142736 -0.28023894 -0.16094028  0.05821748]\n",
      "\n",
      "\n",
      " Training model with SGD using 4 batches and 50000 epochs.\n"
     ]
    },
    {
     "name": "stderr",
     "output_type": "stream",
     "text": [
      "100%|████████████████████████████████████████████████████████████████████████████| 50000/50000 [14:01<00:00, 59.44it/s]\n"
     ]
    },
    {
     "name": "stdout",
     "output_type": "stream",
     "text": [
      "losses were: initial 0.31303119747887, last: 0.31303119747887\n",
      "[[0.99376715]\n",
      " [0.98579666]\n",
      " [1.01340031]\n",
      " [1.00474329]\n",
      " [0.99835125]\n",
      " [1.01663959]]\n",
      "Found new eigenvector: \n",
      " [[ 0.24993742 -0.38278858  0.18848246  0.78853606  1.23933442  0.30790752]] \n",
      " eigenvalue [[-2.30652362]]\n",
      "### FINDING EIGENVECTOR NR.1 ###\n",
      "\n",
      "------ Current settings of model: ------\n",
      "\n",
      "Model:\n",
      "<keras.engine.sequential.Sequential object at 0x000002C9507235B0>\n",
      "Layers:\n",
      "[<keras.layers.core.dense.Dense object at 0x000002C91DC15690>, <keras.layers.core.dense.Dense object at 0x000002C95060F100>]\n",
      "Number of neurons in hidden layer: 100\n",
      "Optimizer: Adam\n",
      "Learning rate: <tf.Variable 'learning_rate:0' shape=() dtype=float32, numpy=0.001>\n",
      "Time grid has shape (100, 1) and goes from [0.] to [1.]\n",
      "Starting from initial condition: [ 0.5561625  -0.38905699  0.48783006  0.88323458 -0.63106783 -1.12328098]\n",
      "\n",
      "\n",
      " Training model with SGD using 4 batches and 50000 epochs.\n"
     ]
    },
    {
     "name": "stderr",
     "output_type": "stream",
     "text": [
      "100%|████████████████████████████████████████████████████████████████████████████| 50000/50000 [14:15<00:00, 58.45it/s]\n",
      "C:\\Users\\breit\\Desktop\\Atom\\FYS-STK\\Project\\FYS-STK4155-Project-3\\Eigenvects.py:49: UserWarning: eigenvector ([[-0.05296283 -0.03752622  0.06345915  0.02362752 -0.04390348 -0.16956254]]) might not be an eigenvector of A.\n",
      "  warnings.warn(f\"eigenvector ({eigvec}) might not be an eigenvector of A.\")\n"
     ]
    },
    {
     "name": "stdout",
     "output_type": "stream",
     "text": [
      "losses were: initial 0.3326179688536981, last: 0.3326179688536981\n",
      "[[ 3.03008568]\n",
      " [-5.74343608]\n",
      " [ 4.04135045]\n",
      " [-3.40596175]\n",
      " [ 1.45435143]\n",
      " [ 0.76133027]]\n",
      "Found something not an eigenvector of A: \n",
      " [[-0.05296283 -0.03752622  0.06345915  0.02362752 -0.04390348 -0.16956254]]\n",
      "### FINDING EIGENVECTOR NR.1 ###\n",
      "\n",
      "------ Current settings of model: ------\n",
      "\n",
      "Model:\n",
      "<keras.engine.sequential.Sequential object at 0x000002C95067C2B0>\n",
      "Layers:\n",
      "[<keras.layers.core.dense.Dense object at 0x000002C9506CAFE0>, <keras.layers.core.dense.Dense object at 0x000002C9506E43A0>]\n",
      "Number of neurons in hidden layer: 100\n",
      "Optimizer: Adam\n",
      "Learning rate: <tf.Variable 'learning_rate:0' shape=() dtype=float32, numpy=0.001>\n",
      "Time grid has shape (100, 1) and goes from [0.] to [1.]\n",
      "Starting from initial condition: [ 0.51771225  1.7650724  -0.06670533  0.94281722 -1.54020395  0.06341191]\n",
      "\n",
      "\n",
      " Training model with SGD using 4 batches and 50000 epochs.\n"
     ]
    },
    {
     "name": "stderr",
     "output_type": "stream",
     "text": [
      "100%|████████████████████████████████████████████████████████████████████████████| 50000/50000 [17:31<00:00, 47.54it/s]\n"
     ]
    },
    {
     "name": "stdout",
     "output_type": "stream",
     "text": [
      "losses were: initial 2.0550662788040115, last: 2.0550662788040115\n",
      "[[0.97832693]\n",
      " [1.08003719]\n",
      " [0.93022834]\n",
      " [0.97005192]\n",
      " [1.01277258]\n",
      " [0.93789199]]\n",
      "Duplicate [[-2.30537944]]\n",
      "### FINDING EIGENVECTOR NR.1 ###\n",
      "\n",
      "------ Current settings of model: ------\n",
      "\n",
      "Model:\n",
      "<keras.engine.sequential.Sequential object at 0x000002C95069A1A0>\n",
      "Layers:\n",
      "[<keras.layers.core.dense.Dense object at 0x000002C9507044F0>, <keras.layers.core.dense.Dense object at 0x000002C94EAD5C00>]\n",
      "Number of neurons in hidden layer: 100\n",
      "Optimizer: Adam\n",
      "Learning rate: <tf.Variable 'learning_rate:0' shape=() dtype=float32, numpy=0.001>\n",
      "Time grid has shape (100, 1) and goes from [0.] to [1.]\n",
      "Starting from initial condition: [ 3.56531888  0.83406578 -1.66872936  0.29409134 -1.36315205  0.42313922]\n",
      "\n",
      "\n",
      " Training model with SGD using 4 batches and 50000 epochs.\n"
     ]
    },
    {
     "name": "stderr",
     "output_type": "stream",
     "text": [
      "100%|████████████████████████████████████████████████████████████████████████████| 50000/50000 [17:38<00:00, 47.25it/s]\n"
     ]
    },
    {
     "name": "stdout",
     "output_type": "stream",
     "text": [
      "losses were: initial 0.026387449943297003, last: 0.026387449943297003\n",
      "[[0.99026472]\n",
      " [0.99846081]\n",
      " [1.00444961]\n",
      " [1.00048686]\n",
      " [0.99689251]\n",
      " [1.00227818]]\n",
      "Found new eigenvector: \n",
      " [[-0.27422385  0.92016367  0.49093874  0.5664075  -0.26935949  0.67309218]] \n",
      " eigenvalue [[2.20198371]]\n",
      "### FINDING EIGENVECTOR NR.2 ###\n",
      "\n",
      "------ Current settings of model: ------\n",
      "\n",
      "Model:\n",
      "<keras.engine.sequential.Sequential object at 0x000002C950652980>\n",
      "Layers:\n",
      "[<keras.layers.core.dense.Dense object at 0x000002C95067C9D0>, <keras.layers.core.dense.Dense object at 0x000002C9506C8E50>]\n",
      "Number of neurons in hidden layer: 100\n",
      "Optimizer: Adam\n",
      "Learning rate: <tf.Variable 'learning_rate:0' shape=() dtype=float32, numpy=0.001>\n",
      "Time grid has shape (100, 1) and goes from [0.] to [1.]\n",
      "Starting from initial condition: [ 1.14992133  0.20914021 -0.04144734 -2.49890015  0.34035259  1.70560232]\n",
      "\n",
      "\n",
      " Training model with SGD using 4 batches and 50000 epochs.\n"
     ]
    },
    {
     "name": "stderr",
     "output_type": "stream",
     "text": [
      "100%|████████████████████████████████████████████████████████████████████████████| 50000/50000 [17:34<00:00, 47.41it/s]\n"
     ]
    },
    {
     "name": "stdout",
     "output_type": "stream",
     "text": [
      "losses were: initial 6.877503311147685, last: 6.877503311147685\n",
      "[[0.90615171]\n",
      " [0.94977027]\n",
      " [0.97484282]\n",
      " [1.04183273]\n",
      " [0.99494252]\n",
      " [1.00045367]]\n",
      "Duplicate [[-2.30446152]]\n",
      "### FINDING EIGENVECTOR NR.2 ###\n",
      "\n",
      "------ Current settings of model: ------\n",
      "\n",
      "Model:\n",
      "<keras.engine.sequential.Sequential object at 0x000002C9506E4E80>\n",
      "Layers:\n",
      "[<keras.layers.core.dense.Dense object at 0x000002C950727940>, <keras.layers.core.dense.Dense object at 0x000002C95067D120>]\n",
      "Number of neurons in hidden layer: 100\n",
      "Optimizer: Adam\n",
      "Learning rate: <tf.Variable 'learning_rate:0' shape=() dtype=float32, numpy=0.001>\n",
      "Time grid has shape (100, 1) and goes from [0.] to [1.]\n",
      "Starting from initial condition: [ 1.18118701 -0.07504777  2.02580279 -0.94319597 -2.11036847  2.04462484]\n",
      "\n",
      "\n",
      " Training model with SGD using 4 batches and 50000 epochs.\n"
     ]
    },
    {
     "name": "stderr",
     "output_type": "stream",
     "text": [
      "100%|████████████████████████████████████████████████████████████████████████████| 50000/50000 [10:31<00:00, 79.16it/s]\n"
     ]
    },
    {
     "name": "stdout",
     "output_type": "stream",
     "text": [
      "losses were: initial 0.03591007086918502, last: 0.03591007086918502\n",
      "[[0.97074686]\n",
      " [1.06264667]\n",
      " [0.95626981]\n",
      " [0.99625922]\n",
      " [1.00153822]\n",
      " [0.95422672]]\n",
      "Duplicate [[-2.30598289]]\n",
      "### FINDING EIGENVECTOR NR.2 ###\n",
      "\n",
      "------ Current settings of model: ------\n",
      "\n",
      "Model:\n",
      "<keras.engine.sequential.Sequential object at 0x000002C950652980>\n",
      "Layers:\n",
      "[<keras.layers.core.dense.Dense object at 0x000002C950735210>, <keras.layers.core.dense.Dense object at 0x000002C95067C4F0>]\n",
      "Number of neurons in hidden layer: 100\n",
      "Optimizer: Adam\n",
      "Learning rate: <tf.Variable 'learning_rate:0' shape=() dtype=float32, numpy=0.001>\n",
      "Time grid has shape (100, 1) and goes from [0.] to [1.]\n",
      "Starting from initial condition: [-0.06142924 -1.18371918  2.14954568  1.83595738 -1.22055266 -0.54254244]\n",
      "\n",
      "\n",
      " Training model with SGD using 4 batches and 50000 epochs.\n"
     ]
    },
    {
     "name": "stderr",
     "output_type": "stream",
     "text": [
      "100%|████████████████████████████████████████████████████████████████████████████| 50000/50000 [08:55<00:00, 93.35it/s]\n"
     ]
    },
    {
     "name": "stdout",
     "output_type": "stream",
     "text": [
      "losses were: initial 0.0024026982532337517, last: 0.0024026982532337517\n",
      "[[0.98818341]\n",
      " [1.00120833]\n",
      " [1.02115897]\n",
      " [1.00011678]\n",
      " [0.96117699]\n",
      " [0.99554771]]\n",
      "Duplicate [[2.20176511]]\n",
      "### FINDING EIGENVECTOR NR.2 ###\n",
      "\n",
      "------ Current settings of model: ------\n",
      "\n",
      "Model:\n",
      "<keras.engine.sequential.Sequential object at 0x000002C9507CBDF0>\n",
      "Layers:\n",
      "[<keras.layers.core.dense.Dense object at 0x000002C94D894D30>, <keras.layers.core.dense.Dense object at 0x000002C95067E530>]\n",
      "Number of neurons in hidden layer: 100\n",
      "Optimizer: Adam\n",
      "Learning rate: <tf.Variable 'learning_rate:0' shape=() dtype=float32, numpy=0.001>\n",
      "Time grid has shape (100, 1) and goes from [0.] to [1.]\n",
      "Starting from initial condition: [ 0.47000741 -0.98625086 -3.54936629 -3.06547411  0.64568479 -3.77394362]\n",
      "\n",
      "\n",
      " Training model with SGD using 4 batches and 50000 epochs.\n"
     ]
    },
    {
     "name": "stderr",
     "output_type": "stream",
     "text": [
      "100%|███████████████████████████████████████████████████████████████████████████| 50000/50000 [08:14<00:00, 101.11it/s]\n"
     ]
    },
    {
     "name": "stdout",
     "output_type": "stream",
     "text": [
      "losses were: initial 23.447017769108886, last: 23.447017769108886\n",
      "[[0.99830851]\n",
      " [0.99944815]\n",
      " [0.99995362]\n",
      " [1.00225324]\n",
      " [0.9954144 ]\n",
      " [1.00046986]]\n",
      "Duplicate [[2.20200308]]\n",
      "### FINDING EIGENVECTOR NR.2 ###\n",
      "\n",
      "------ Current settings of model: ------\n",
      "\n",
      "Model:\n",
      "<keras.engine.sequential.Sequential object at 0x000002C9518A7A90>\n",
      "Layers:\n",
      "[<keras.layers.core.dense.Dense object at 0x000002C95080CB20>, <keras.layers.core.dense.Dense object at 0x000002C95086CD60>]\n",
      "Number of neurons in hidden layer: 100\n",
      "Optimizer: Adam\n",
      "Learning rate: <tf.Variable 'learning_rate:0' shape=() dtype=float32, numpy=0.001>\n",
      "Time grid has shape (100, 1) and goes from [0.] to [1.]\n",
      "Starting from initial condition: [-3.99852023 -2.74236311 -0.54648515  1.86549844 -0.993323    1.34300246]\n",
      "\n",
      "\n",
      " Training model with SGD using 4 batches and 50000 epochs.\n"
     ]
    },
    {
     "name": "stderr",
     "output_type": "stream",
     "text": [
      "100%|████████████████████████████████████████████████████████████████████████████| 50000/50000 [09:01<00:00, 92.26it/s]\n"
     ]
    },
    {
     "name": "stdout",
     "output_type": "stream",
     "text": [
      "losses were: initial 0.5368099660261451, last: 0.5368099660261451\n",
      "[[1.00320523]\n",
      " [1.00347164]\n",
      " [0.99674596]\n",
      " [1.000197  ]\n",
      " [0.99984216]\n",
      " [0.99526031]]\n",
      "Duplicate [[-2.30656229]]\n",
      "### FINDING EIGENVECTOR NR.2 ###\n",
      "\n",
      "------ Current settings of model: ------\n",
      "\n",
      "Model:\n",
      "<keras.engine.sequential.Sequential object at 0x000002C95065A3B0>\n",
      "Layers:\n",
      "[<keras.layers.core.dense.Dense object at 0x000002C95086DEA0>, <keras.layers.core.dense.Dense object at 0x000002C950832B30>]\n",
      "Number of neurons in hidden layer: 100\n",
      "Optimizer: Adam\n",
      "Learning rate: <tf.Variable 'learning_rate:0' shape=() dtype=float32, numpy=0.001>\n",
      "Time grid has shape (100, 1) and goes from [0.] to [1.]\n",
      "Starting from initial condition: [-1.38835671  0.32588343 -0.11498922 -0.42473135  1.11120466 -0.27156372]\n",
      "\n",
      "\n",
      " Training model with SGD using 4 batches and 50000 epochs.\n"
     ]
    },
    {
     "name": "stderr",
     "output_type": "stream",
     "text": [
      "100%|████████████████████████████████████████████████████████████████████████████| 50000/50000 [09:25<00:00, 88.35it/s]\n",
      "C:\\Users\\breit\\Desktop\\Atom\\FYS-STK\\Project\\FYS-STK4155-Project-3\\Eigenvects.py:49: UserWarning: eigenvector ([[ 0.06406325 -0.30142418 -0.18015412 -0.22367675  0.12785888 -0.24488076]]) might not be an eigenvector of A.\n",
      "  warnings.warn(f\"eigenvector ({eigvec}) might not be an eigenvector of A.\")\n"
     ]
    },
    {
     "name": "stdout",
     "output_type": "stream",
     "text": [
      "losses were: initial 0.38116847578498814, last: 0.38116847578498814\n",
      "[[1.3716022 ]\n",
      " [1.00837036]\n",
      " [1.0143407 ]\n",
      " [1.00745493]\n",
      " [0.92898264]\n",
      " [0.96726469]]\n",
      "Found something not an eigenvector of A: \n",
      " [[ 0.06406325 -0.30142418 -0.18015412 -0.22367675  0.12785888 -0.24488076]]\n",
      "### FINDING EIGENVECTOR NR.2 ###\n",
      "\n",
      "------ Current settings of model: ------\n",
      "\n",
      "Model:\n",
      "<keras.engine.sequential.Sequential object at 0x000002C95080E6B0>\n",
      "Layers:\n",
      "[<keras.layers.core.dense.Dense object at 0x000002C9507263B0>, <keras.layers.core.dense.Dense object at 0x000002C95069AA10>]\n",
      "Number of neurons in hidden layer: 100\n",
      "Optimizer: Adam\n",
      "Learning rate: <tf.Variable 'learning_rate:0' shape=() dtype=float32, numpy=0.001>\n",
      "Time grid has shape (100, 1) and goes from [0.] to [1.]\n",
      "Starting from initial condition: [1.23334672 0.28370217 0.68437686 0.49300222 0.792041   0.84501199]\n",
      "\n",
      "\n",
      " Training model with SGD using 4 batches and 50000 epochs.\n"
     ]
    },
    {
     "name": "stderr",
     "output_type": "stream",
     "text": [
      "100%|████████████████████████████████████████████████████████████████████████████| 50000/50000 [10:09<00:00, 81.98it/s]\n",
      "C:\\Users\\breit\\Desktop\\Atom\\FYS-STK\\Project\\FYS-STK4155-Project-3\\Eigenvects.py:49: UserWarning: eigenvector ([[ 3.25036376  0.22650531  0.67652113 -1.78736446 -0.04389832  1.99393415]]) might not be an eigenvector of A.\n",
      "  warnings.warn(f\"eigenvector ({eigvec}) might not be an eigenvector of A.\")\n"
     ]
    },
    {
     "name": "stdout",
     "output_type": "stream",
     "text": [
      "losses were: initial 0.054349276900195385, last: 0.054349276900195385\n",
      "[[1.00108549]\n",
      " [0.98562214]\n",
      " [1.00272658]\n",
      " [0.99720165]\n",
      " [0.79198906]\n",
      " [0.99933658]]\n",
      "Found something not an eigenvector of A: \n",
      " [[ 3.25036376  0.22650531  0.67652113 -1.78736446 -0.04389832  1.99393415]]\n",
      "### FINDING EIGENVECTOR NR.2 ###\n",
      "\n",
      "------ Current settings of model: ------\n",
      "\n",
      "Model:\n",
      "<keras.engine.sequential.Sequential object at 0x000002C951936860>\n",
      "Layers:\n",
      "[<keras.layers.core.dense.Dense object at 0x000002C9518A5450>, <keras.layers.core.dense.Dense object at 0x000002C950727820>]\n",
      "Number of neurons in hidden layer: 100\n",
      "Optimizer: Adam\n",
      "Learning rate: <tf.Variable 'learning_rate:0' shape=() dtype=float32, numpy=0.001>\n",
      "Time grid has shape (100, 1) and goes from [0.] to [1.]\n",
      "Starting from initial condition: [ 1.39040841  1.62877278 -0.37119308 -0.85975815 -1.8320123   0.85746258]\n",
      "\n",
      "\n",
      " Training model with SGD using 4 batches and 50000 epochs.\n"
     ]
    },
    {
     "name": "stderr",
     "output_type": "stream",
     "text": [
      "100%|████████████████████████████████████████████████████████████████████████████| 50000/50000 [10:46<00:00, 77.39it/s]\n"
     ]
    },
    {
     "name": "stdout",
     "output_type": "stream",
     "text": [
      "losses were: initial 0.009552027942432649, last: 0.009552027942432649\n",
      "[[1.05452389]\n",
      " [0.99333685]\n",
      " [1.0311888 ]\n",
      " [1.01976598]\n",
      " [0.90151893]\n",
      " [0.99407828]]\n",
      "Duplicate [[2.20063617]]\n",
      "### FINDING EIGENVECTOR NR.2 ###\n",
      "\n",
      "------ Current settings of model: ------\n",
      "\n",
      "Model:\n",
      "<keras.engine.sequential.Sequential object at 0x000002C9519BA770>\n",
      "Layers:\n",
      "[<keras.layers.core.dense.Dense object at 0x000002C951936410>, <keras.layers.core.dense.Dense object at 0x000002C9506521D0>]\n",
      "Number of neurons in hidden layer: 100\n",
      "Optimizer: Adam\n",
      "Learning rate: <tf.Variable 'learning_rate:0' shape=() dtype=float32, numpy=0.001>\n",
      "Time grid has shape (100, 1) and goes from [0.] to [1.]\n",
      "Starting from initial condition: [-2.0704593  -2.55559286  0.36449486 -0.1014749  -0.68960926 -0.64353991]\n",
      "\n",
      "\n",
      " Training model with SGD using 4 batches and 50000 epochs.\n"
     ]
    },
    {
     "name": "stderr",
     "output_type": "stream",
     "text": [
      "100%|████████████████████████████████████████████████████████████████████████████| 50000/50000 [10:31<00:00, 79.21it/s]\n"
     ]
    },
    {
     "name": "stdout",
     "output_type": "stream",
     "text": [
      "losses were: initial 12.568187105576166, last: 12.568187105576166\n",
      "[[0.99655944]\n",
      " [1.00046645]\n",
      " [1.00023999]\n",
      " [0.99947285]\n",
      " [1.00037237]\n",
      " [0.99896293]]\n",
      "Duplicate [[-2.3065639]]\n",
      "### FINDING EIGENVECTOR NR.2 ###\n",
      "\n",
      "------ Current settings of model: ------\n",
      "\n",
      "Model:\n",
      "<keras.engine.sequential.Sequential object at 0x000002C952AAE8C0>\n",
      "Layers:\n",
      "[<keras.layers.core.dense.Dense object at 0x000002C951914340>, <keras.layers.core.dense.Dense object at 0x000002C950735210>]\n",
      "Number of neurons in hidden layer: 100\n",
      "Optimizer: Adam\n",
      "Learning rate: <tf.Variable 'learning_rate:0' shape=() dtype=float32, numpy=0.001>\n",
      "Time grid has shape (100, 1) and goes from [0.] to [1.]\n",
      "Starting from initial condition: [ 2.15744798 -0.56166704 -0.71829231  1.93318394 -1.30723048 -0.57201905]\n",
      "\n",
      "\n",
      " Training model with SGD using 4 batches and 50000 epochs.\n"
     ]
    },
    {
     "name": "stderr",
     "output_type": "stream",
     "text": [
      "100%|████████████████████████████████████████████████████████████████████████████| 50000/50000 [10:13<00:00, 81.55it/s]\n",
      "C:\\Users\\breit\\Desktop\\Atom\\FYS-STK\\Project\\FYS-STK4155-Project-3\\Eigenvects.py:49: UserWarning: eigenvector ([[-0.07701165  0.39044295  0.19318049  0.24843612 -0.10169007  0.27114219]]) might not be an eigenvector of A.\n",
      "  warnings.warn(f\"eigenvector ({eigvec}) might not be an eigenvector of A.\")\n"
     ]
    },
    {
     "name": "stdout",
     "output_type": "stream",
     "text": [
      "losses were: initial 0.002534209921050151, last: 0.002534209921050151\n",
      "[[1.4971675 ]\n",
      " [0.98152539]\n",
      " [1.05501738]\n",
      " [0.92759797]\n",
      " [1.23521142]\n",
      " [0.99797327]]\n",
      "Found something not an eigenvector of A: \n",
      " [[-0.07701165  0.39044295  0.19318049  0.24843612 -0.10169007  0.27114219]]\n",
      "### FINDING EIGENVECTOR NR.2 ###\n",
      "\n",
      "------ Current settings of model: ------\n",
      "\n",
      "Model:\n",
      "<keras.engine.sequential.Sequential object at 0x000002C95086ECE0>\n",
      "Layers:\n",
      "[<keras.layers.core.dense.Dense object at 0x000002C95076F550>, <keras.layers.core.dense.Dense object at 0x000002C95086CEE0>]\n",
      "Number of neurons in hidden layer: 100\n",
      "Optimizer: Adam\n",
      "Learning rate: <tf.Variable 'learning_rate:0' shape=() dtype=float32, numpy=0.001>\n",
      "Time grid has shape (100, 1) and goes from [0.] to [1.]\n",
      "Starting from initial condition: [-0.58154718 -0.29676804  0.64111122 -1.07001549 -0.40361618 -1.16244347]\n",
      "\n",
      "\n",
      " Training model with SGD using 4 batches and 50000 epochs.\n"
     ]
    },
    {
     "name": "stderr",
     "output_type": "stream",
     "text": [
      "100%|████████████████████████████████████████████████████████████████████████████| 50000/50000 [11:18<00:00, 73.72it/s]\n"
     ]
    },
    {
     "name": "stdout",
     "output_type": "stream",
     "text": [
      "losses were: initial 0.004193145121371792, last: 0.004193145121371792\n",
      "[[0.99874083]\n",
      " [0.99700632]\n",
      " [0.99966817]\n",
      " [0.99734357]\n",
      " [1.00177129]\n",
      " [0.99476915]]\n",
      "Duplicate [[-2.30655443]]\n",
      "### FINDING EIGENVECTOR NR.2 ###\n",
      "\n",
      "------ Current settings of model: ------\n",
      "\n",
      "Model:\n",
      "<keras.engine.sequential.Sequential object at 0x000002C9507CBF40>\n",
      "Layers:\n",
      "[<keras.layers.core.dense.Dense object at 0x000002C9507CA410>, <keras.layers.core.dense.Dense object at 0x000002C9507CB820>]\n",
      "Number of neurons in hidden layer: 100\n",
      "Optimizer: Adam\n",
      "Learning rate: <tf.Variable 'learning_rate:0' shape=() dtype=float32, numpy=0.001>\n",
      "Time grid has shape (100, 1) and goes from [0.] to [1.]\n",
      "Starting from initial condition: [-1.10260836  0.10279459 -0.52079042  0.5777344   2.93575245  1.07882152]\n",
      "\n",
      "\n",
      " Training model with SGD using 4 batches and 50000 epochs.\n"
     ]
    },
    {
     "name": "stderr",
     "output_type": "stream",
     "text": [
      "100%|████████████████████████████████████████████████████████████████████████████| 50000/50000 [12:16<00:00, 67.91it/s]\n"
     ]
    },
    {
     "name": "stdout",
     "output_type": "stream",
     "text": [
      "losses were: initial 0.22900066706874445, last: 0.22900066706874445\n",
      "[[0.99283146]\n",
      " [0.99937097]\n",
      " [1.00234701]\n",
      " [1.00252963]\n",
      " [0.9942891 ]\n",
      " [1.00023003]]\n",
      "Duplicate [[2.2019961]]\n",
      "### FINDING EIGENVECTOR NR.2 ###\n",
      "\n",
      "------ Current settings of model: ------\n",
      "\n",
      "Model:\n",
      "<keras.engine.sequential.Sequential object at 0x000002C95084C5E0>\n",
      "Layers:\n",
      "[<keras.layers.core.dense.Dense object at 0x000002C951A3D240>, <keras.layers.core.dense.Dense object at 0x000002C95086ECE0>]\n",
      "Number of neurons in hidden layer: 100\n",
      "Optimizer: Adam\n",
      "Learning rate: <tf.Variable 'learning_rate:0' shape=() dtype=float32, numpy=0.001>\n",
      "Time grid has shape (100, 1) and goes from [0.] to [1.]\n",
      "Starting from initial condition: [-0.41889995 -2.64793728  0.09116961  3.69731     1.2352288  -0.11316961]\n",
      "\n",
      "\n",
      " Training model with SGD using 4 batches and 50000 epochs.\n"
     ]
    },
    {
     "name": "stderr",
     "output_type": "stream",
     "text": [
      " 60%|█████████████████████████████████████████████▋                              | 30017/50000 [08:19<05:31, 60.29it/s]"
     ]
    }
   ],
   "source": [
    "eigenvectors, eigenvalues = ev.Search_Until_Find(A)\n",
    "print(eigenvalues)\n",
    "A = A.numpy()\n",
    "#prints the true eigenvalues\n",
    "[E, V] = np.linalg.eigh(A)\n",
    "print(E)"
   ]
  },
  {
   "cell_type": "code",
   "execution_count": null,
   "id": "018d6daf",
   "metadata": {},
   "outputs": [],
   "source": []
  }
 ],
 "metadata": {
  "kernelspec": {
   "display_name": "Python 3 (ipykernel)",
   "language": "python",
   "name": "python3"
  },
  "language_info": {
   "codemirror_mode": {
    "name": "ipython",
    "version": 3
   },
   "file_extension": ".py",
   "mimetype": "text/x-python",
   "name": "python",
   "nbconvert_exporter": "python",
   "pygments_lexer": "ipython3",
   "version": "3.10.6"
  }
 },
 "nbformat": 4,
 "nbformat_minor": 5
}
